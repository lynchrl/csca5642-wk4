{
 "cells": [
  {
   "cell_type": "markdown",
   "id": "32b8e29a",
   "metadata": {
    "papermill": {
     "duration": 0.008809,
     "end_time": "2025-08-13T13:33:33.852661",
     "exception": false,
     "start_time": "2025-08-13T13:33:33.843852",
     "status": "completed"
    },
    "tags": []
   },
   "source": [
    "# Introduction\n",
    "\n",
    "For this challenge/competition/assignment, we will be working with the [Natural Language Processing with Disaster Tweets](https://www.kaggle.com/competitions/nlp-getting-started/data) dataset. The ultimate goal is to predict whether or not a given Tweet indicates that an emergency or disaster is in progress or imminent. This type of prediction ability can be generally useful for emergency services to have early detection of events that may require their attention. Beyond using Twitter as a source, news outlets and social media streams could be integrated for a more broad coverage of potential disasters.\n",
    "\n",
    "Overall, this challenge requires the use of NLP (Natural Language Processing) to classify a Tweet as either indicating a disaster or not.\n",
    "\n",
    "We'll first look at the general size, dimensions, and strucutre of the provided datasets."
   ]
  },
  {
   "cell_type": "code",
   "execution_count": 1,
   "id": "7e1de959",
   "metadata": {
    "_cell_guid": "b1076dfc-b9ad-4769-8c92-a6c4dae69d19",
    "_kg_hide-input": true,
    "_uuid": "8f2839f25d086af736a60e9eeb907d3b93b6e0e5",
    "execution": {
     "iopub.execute_input": "2025-08-13T13:33:33.869271Z",
     "iopub.status.busy": "2025-08-13T13:33:33.868676Z",
     "iopub.status.idle": "2025-08-13T13:33:36.726318Z",
     "shell.execute_reply": "2025-08-13T13:33:36.725461Z"
    },
    "papermill": {
     "duration": 2.867184,
     "end_time": "2025-08-13T13:33:36.727514",
     "exception": false,
     "start_time": "2025-08-13T13:33:33.860330",
     "status": "completed"
    },
    "tags": []
   },
   "outputs": [
    {
     "name": "stdout",
     "output_type": "stream",
     "text": [
      "/kaggle/input/nlp-getting-started/sample_submission.csv\n",
      "/kaggle/input/nlp-getting-started/train.csv\n",
      "/kaggle/input/nlp-getting-started/test.csv\n",
      "/kaggle/input/bert/keras/bert_small_en_uncased/2/config.json\n",
      "/kaggle/input/bert/keras/bert_small_en_uncased/2/tokenizer.json\n",
      "/kaggle/input/bert/keras/bert_small_en_uncased/2/metadata.json\n",
      "/kaggle/input/bert/keras/bert_small_en_uncased/2/model.weights.h5\n",
      "/kaggle/input/bert/keras/bert_small_en_uncased/2/assets/tokenizer/vocabulary.txt\n",
      "/kaggle/input/bert/keras/bert_tiny_en_uncased/2/config.json\n",
      "/kaggle/input/bert/keras/bert_tiny_en_uncased/2/tokenizer.json\n",
      "/kaggle/input/bert/keras/bert_tiny_en_uncased/2/metadata.json\n",
      "/kaggle/input/bert/keras/bert_tiny_en_uncased/2/model.weights.h5\n",
      "/kaggle/input/bert/keras/bert_tiny_en_uncased/2/assets/tokenizer/vocabulary.txt\n"
     ]
    }
   ],
   "source": [
    "# Imports.\n",
    "import numpy as np\n",
    "import pandas as pd\n",
    "import matplotlib.pyplot as plt\n",
    "import seaborn as sns\n",
    "\n",
    "import random\n",
    "import os\n",
    "for dirname, _, filenames in os.walk('/kaggle/input'):\n",
    "    for filename in filenames:\n",
    "        print(os.path.join(dirname, filename))\n",
    "\n",
    "# You can write up to 20GB to the current directory (/kaggle/working/) that gets preserved as output when you create a version using \"Save & Run All\" \n",
    "# You can also write temporary files to /kaggle/temp/, but they won't be saved outside of the current session\n",
    "global_random_seed=42\n",
    "\n",
    "random.seed(global_random_seed)\n",
    "np.random.seed(global_random_seed)"
   ]
  },
  {
   "cell_type": "code",
   "execution_count": 2,
   "id": "8b5047f0",
   "metadata": {
    "execution": {
     "iopub.execute_input": "2025-08-13T13:33:36.745068Z",
     "iopub.status.busy": "2025-08-13T13:33:36.744377Z",
     "iopub.status.idle": "2025-08-13T13:33:36.806092Z",
     "shell.execute_reply": "2025-08-13T13:33:36.805472Z"
    },
    "papermill": {
     "duration": 0.071948,
     "end_time": "2025-08-13T13:33:36.807295",
     "exception": false,
     "start_time": "2025-08-13T13:33:36.735347",
     "status": "completed"
    },
    "tags": []
   },
   "outputs": [],
   "source": [
    "train_df = pd.read_csv(\"/kaggle/input/nlp-getting-started/train.csv\")\n",
    "test_df = pd.read_csv(\"/kaggle/input/nlp-getting-started/test.csv\")"
   ]
  },
  {
   "cell_type": "code",
   "execution_count": 3,
   "id": "15dd9b60",
   "metadata": {
    "execution": {
     "iopub.execute_input": "2025-08-13T13:33:36.824248Z",
     "iopub.status.busy": "2025-08-13T13:33:36.823439Z",
     "iopub.status.idle": "2025-08-13T13:33:36.847027Z",
     "shell.execute_reply": "2025-08-13T13:33:36.846422Z"
    },
    "papermill": {
     "duration": 0.032934,
     "end_time": "2025-08-13T13:33:36.848027",
     "exception": false,
     "start_time": "2025-08-13T13:33:36.815093",
     "status": "completed"
    },
    "tags": []
   },
   "outputs": [
    {
     "data": {
      "text/html": [
       "<div>\n",
       "<style scoped>\n",
       "    .dataframe tbody tr th:only-of-type {\n",
       "        vertical-align: middle;\n",
       "    }\n",
       "\n",
       "    .dataframe tbody tr th {\n",
       "        vertical-align: top;\n",
       "    }\n",
       "\n",
       "    .dataframe thead th {\n",
       "        text-align: right;\n",
       "    }\n",
       "</style>\n",
       "<table border=\"1\" class=\"dataframe\">\n",
       "  <thead>\n",
       "    <tr style=\"text-align: right;\">\n",
       "      <th></th>\n",
       "      <th>id</th>\n",
       "      <th>keyword</th>\n",
       "      <th>location</th>\n",
       "      <th>text</th>\n",
       "      <th>target</th>\n",
       "    </tr>\n",
       "  </thead>\n",
       "  <tbody>\n",
       "    <tr>\n",
       "      <th>0</th>\n",
       "      <td>1</td>\n",
       "      <td>NaN</td>\n",
       "      <td>NaN</td>\n",
       "      <td>Our Deeds are the Reason of this #earthquake M...</td>\n",
       "      <td>1</td>\n",
       "    </tr>\n",
       "    <tr>\n",
       "      <th>1</th>\n",
       "      <td>4</td>\n",
       "      <td>NaN</td>\n",
       "      <td>NaN</td>\n",
       "      <td>Forest fire near La Ronge Sask. Canada</td>\n",
       "      <td>1</td>\n",
       "    </tr>\n",
       "    <tr>\n",
       "      <th>2</th>\n",
       "      <td>5</td>\n",
       "      <td>NaN</td>\n",
       "      <td>NaN</td>\n",
       "      <td>All residents asked to 'shelter in place' are ...</td>\n",
       "      <td>1</td>\n",
       "    </tr>\n",
       "    <tr>\n",
       "      <th>3</th>\n",
       "      <td>6</td>\n",
       "      <td>NaN</td>\n",
       "      <td>NaN</td>\n",
       "      <td>13,000 people receive #wildfires evacuation or...</td>\n",
       "      <td>1</td>\n",
       "    </tr>\n",
       "    <tr>\n",
       "      <th>4</th>\n",
       "      <td>7</td>\n",
       "      <td>NaN</td>\n",
       "      <td>NaN</td>\n",
       "      <td>Just got sent this photo from Ruby #Alaska as ...</td>\n",
       "      <td>1</td>\n",
       "    </tr>\n",
       "    <tr>\n",
       "      <th>...</th>\n",
       "      <td>...</td>\n",
       "      <td>...</td>\n",
       "      <td>...</td>\n",
       "      <td>...</td>\n",
       "      <td>...</td>\n",
       "    </tr>\n",
       "    <tr>\n",
       "      <th>7608</th>\n",
       "      <td>10869</td>\n",
       "      <td>NaN</td>\n",
       "      <td>NaN</td>\n",
       "      <td>Two giant cranes holding a bridge collapse int...</td>\n",
       "      <td>1</td>\n",
       "    </tr>\n",
       "    <tr>\n",
       "      <th>7609</th>\n",
       "      <td>10870</td>\n",
       "      <td>NaN</td>\n",
       "      <td>NaN</td>\n",
       "      <td>@aria_ahrary @TheTawniest The out of control w...</td>\n",
       "      <td>1</td>\n",
       "    </tr>\n",
       "    <tr>\n",
       "      <th>7610</th>\n",
       "      <td>10871</td>\n",
       "      <td>NaN</td>\n",
       "      <td>NaN</td>\n",
       "      <td>M1.94 [01:04 UTC]?5km S of Volcano Hawaii. htt...</td>\n",
       "      <td>1</td>\n",
       "    </tr>\n",
       "    <tr>\n",
       "      <th>7611</th>\n",
       "      <td>10872</td>\n",
       "      <td>NaN</td>\n",
       "      <td>NaN</td>\n",
       "      <td>Police investigating after an e-bike collided ...</td>\n",
       "      <td>1</td>\n",
       "    </tr>\n",
       "    <tr>\n",
       "      <th>7612</th>\n",
       "      <td>10873</td>\n",
       "      <td>NaN</td>\n",
       "      <td>NaN</td>\n",
       "      <td>The Latest: More Homes Razed by Northern Calif...</td>\n",
       "      <td>1</td>\n",
       "    </tr>\n",
       "  </tbody>\n",
       "</table>\n",
       "<p>7613 rows × 5 columns</p>\n",
       "</div>"
      ],
      "text/plain": [
       "         id keyword location  \\\n",
       "0         1     NaN      NaN   \n",
       "1         4     NaN      NaN   \n",
       "2         5     NaN      NaN   \n",
       "3         6     NaN      NaN   \n",
       "4         7     NaN      NaN   \n",
       "...     ...     ...      ...   \n",
       "7608  10869     NaN      NaN   \n",
       "7609  10870     NaN      NaN   \n",
       "7610  10871     NaN      NaN   \n",
       "7611  10872     NaN      NaN   \n",
       "7612  10873     NaN      NaN   \n",
       "\n",
       "                                                   text  target  \n",
       "0     Our Deeds are the Reason of this #earthquake M...       1  \n",
       "1                Forest fire near La Ronge Sask. Canada       1  \n",
       "2     All residents asked to 'shelter in place' are ...       1  \n",
       "3     13,000 people receive #wildfires evacuation or...       1  \n",
       "4     Just got sent this photo from Ruby #Alaska as ...       1  \n",
       "...                                                 ...     ...  \n",
       "7608  Two giant cranes holding a bridge collapse int...       1  \n",
       "7609  @aria_ahrary @TheTawniest The out of control w...       1  \n",
       "7610  M1.94 [01:04 UTC]?5km S of Volcano Hawaii. htt...       1  \n",
       "7611  Police investigating after an e-bike collided ...       1  \n",
       "7612  The Latest: More Homes Razed by Northern Calif...       1  \n",
       "\n",
       "[7613 rows x 5 columns]"
      ]
     },
     "execution_count": 3,
     "metadata": {},
     "output_type": "execute_result"
    }
   ],
   "source": [
    "train_df"
   ]
  },
  {
   "cell_type": "markdown",
   "id": "972807f9",
   "metadata": {
    "papermill": {
     "duration": 0.007432,
     "end_time": "2025-08-13T13:33:36.863585",
     "exception": false,
     "start_time": "2025-08-13T13:33:36.856153",
     "status": "completed"
    },
    "tags": []
   },
   "source": [
    "The training dataset consists of the following columns: `id`, `keyword`, `location`, `text`, and `target`. From the provided dataset description, we have the following definitions:\n",
    "\n",
    "* `id` - a unique identifier for each tweet\n",
    "* `text` - the text of the tweet\n",
    "* `location` - the location the tweet was sent from (may be blank)\n",
    "* `keyword` - a particular keyword from the tweet (may be blank)\n",
    "* `target` - in train.csv only, this denotes whether a tweet is about a real disaster (1) or not (0)\n",
    "\n",
    "`keyword`, `location`, and `text` are the likely input features that we'll explore below.\n",
    "\n",
    "7613 samples are provided in the training dataset."
   ]
  },
  {
   "cell_type": "code",
   "execution_count": 4,
   "id": "a7913c50",
   "metadata": {
    "execution": {
     "iopub.execute_input": "2025-08-13T13:33:36.879555Z",
     "iopub.status.busy": "2025-08-13T13:33:36.879364Z",
     "iopub.status.idle": "2025-08-13T13:33:36.888404Z",
     "shell.execute_reply": "2025-08-13T13:33:36.887828Z"
    },
    "papermill": {
     "duration": 0.018237,
     "end_time": "2025-08-13T13:33:36.889466",
     "exception": false,
     "start_time": "2025-08-13T13:33:36.871229",
     "status": "completed"
    },
    "tags": []
   },
   "outputs": [
    {
     "data": {
      "text/html": [
       "<div>\n",
       "<style scoped>\n",
       "    .dataframe tbody tr th:only-of-type {\n",
       "        vertical-align: middle;\n",
       "    }\n",
       "\n",
       "    .dataframe tbody tr th {\n",
       "        vertical-align: top;\n",
       "    }\n",
       "\n",
       "    .dataframe thead th {\n",
       "        text-align: right;\n",
       "    }\n",
       "</style>\n",
       "<table border=\"1\" class=\"dataframe\">\n",
       "  <thead>\n",
       "    <tr style=\"text-align: right;\">\n",
       "      <th></th>\n",
       "      <th>id</th>\n",
       "      <th>keyword</th>\n",
       "      <th>location</th>\n",
       "      <th>text</th>\n",
       "    </tr>\n",
       "  </thead>\n",
       "  <tbody>\n",
       "    <tr>\n",
       "      <th>0</th>\n",
       "      <td>0</td>\n",
       "      <td>NaN</td>\n",
       "      <td>NaN</td>\n",
       "      <td>Just happened a terrible car crash</td>\n",
       "    </tr>\n",
       "    <tr>\n",
       "      <th>1</th>\n",
       "      <td>2</td>\n",
       "      <td>NaN</td>\n",
       "      <td>NaN</td>\n",
       "      <td>Heard about #earthquake is different cities, s...</td>\n",
       "    </tr>\n",
       "    <tr>\n",
       "      <th>2</th>\n",
       "      <td>3</td>\n",
       "      <td>NaN</td>\n",
       "      <td>NaN</td>\n",
       "      <td>there is a forest fire at spot pond, geese are...</td>\n",
       "    </tr>\n",
       "    <tr>\n",
       "      <th>3</th>\n",
       "      <td>9</td>\n",
       "      <td>NaN</td>\n",
       "      <td>NaN</td>\n",
       "      <td>Apocalypse lighting. #Spokane #wildfires</td>\n",
       "    </tr>\n",
       "    <tr>\n",
       "      <th>4</th>\n",
       "      <td>11</td>\n",
       "      <td>NaN</td>\n",
       "      <td>NaN</td>\n",
       "      <td>Typhoon Soudelor kills 28 in China and Taiwan</td>\n",
       "    </tr>\n",
       "    <tr>\n",
       "      <th>...</th>\n",
       "      <td>...</td>\n",
       "      <td>...</td>\n",
       "      <td>...</td>\n",
       "      <td>...</td>\n",
       "    </tr>\n",
       "    <tr>\n",
       "      <th>3258</th>\n",
       "      <td>10861</td>\n",
       "      <td>NaN</td>\n",
       "      <td>NaN</td>\n",
       "      <td>EARTHQUAKE SAFETY LOS ANGELES ÛÒ SAFETY FASTE...</td>\n",
       "    </tr>\n",
       "    <tr>\n",
       "      <th>3259</th>\n",
       "      <td>10865</td>\n",
       "      <td>NaN</td>\n",
       "      <td>NaN</td>\n",
       "      <td>Storm in RI worse than last hurricane. My city...</td>\n",
       "    </tr>\n",
       "    <tr>\n",
       "      <th>3260</th>\n",
       "      <td>10868</td>\n",
       "      <td>NaN</td>\n",
       "      <td>NaN</td>\n",
       "      <td>Green Line derailment in Chicago http://t.co/U...</td>\n",
       "    </tr>\n",
       "    <tr>\n",
       "      <th>3261</th>\n",
       "      <td>10874</td>\n",
       "      <td>NaN</td>\n",
       "      <td>NaN</td>\n",
       "      <td>MEG issues Hazardous Weather Outlook (HWO) htt...</td>\n",
       "    </tr>\n",
       "    <tr>\n",
       "      <th>3262</th>\n",
       "      <td>10875</td>\n",
       "      <td>NaN</td>\n",
       "      <td>NaN</td>\n",
       "      <td>#CityofCalgary has activated its Municipal Eme...</td>\n",
       "    </tr>\n",
       "  </tbody>\n",
       "</table>\n",
       "<p>3263 rows × 4 columns</p>\n",
       "</div>"
      ],
      "text/plain": [
       "         id keyword location  \\\n",
       "0         0     NaN      NaN   \n",
       "1         2     NaN      NaN   \n",
       "2         3     NaN      NaN   \n",
       "3         9     NaN      NaN   \n",
       "4        11     NaN      NaN   \n",
       "...     ...     ...      ...   \n",
       "3258  10861     NaN      NaN   \n",
       "3259  10865     NaN      NaN   \n",
       "3260  10868     NaN      NaN   \n",
       "3261  10874     NaN      NaN   \n",
       "3262  10875     NaN      NaN   \n",
       "\n",
       "                                                   text  \n",
       "0                    Just happened a terrible car crash  \n",
       "1     Heard about #earthquake is different cities, s...  \n",
       "2     there is a forest fire at spot pond, geese are...  \n",
       "3              Apocalypse lighting. #Spokane #wildfires  \n",
       "4         Typhoon Soudelor kills 28 in China and Taiwan  \n",
       "...                                                 ...  \n",
       "3258  EARTHQUAKE SAFETY LOS ANGELES ÛÒ SAFETY FASTE...  \n",
       "3259  Storm in RI worse than last hurricane. My city...  \n",
       "3260  Green Line derailment in Chicago http://t.co/U...  \n",
       "3261  MEG issues Hazardous Weather Outlook (HWO) htt...  \n",
       "3262  #CityofCalgary has activated its Municipal Eme...  \n",
       "\n",
       "[3263 rows x 4 columns]"
      ]
     },
     "execution_count": 4,
     "metadata": {},
     "output_type": "execute_result"
    }
   ],
   "source": [
    "test_df"
   ]
  },
  {
   "cell_type": "markdown",
   "id": "6af468c6",
   "metadata": {
    "papermill": {
     "duration": 0.007635,
     "end_time": "2025-08-13T13:33:36.905481",
     "exception": false,
     "start_time": "2025-08-13T13:33:36.897846",
     "status": "completed"
    },
    "tags": []
   },
   "source": [
    "Similarly, as expected, the test dataset consists of the same columns minus `target`. There are 3263 samples in the test dataset."
   ]
  },
  {
   "cell_type": "markdown",
   "id": "4dc243be",
   "metadata": {
    "papermill": {
     "duration": 0.00749,
     "end_time": "2025-08-13T13:33:36.920710",
     "exception": false,
     "start_time": "2025-08-13T13:33:36.913220",
     "status": "completed"
    },
    "tags": []
   },
   "source": [
    "# Exploratory Data Analysis (EDA) and Cleaning\n",
    "\n",
    "We will now perform some EDA on the datasets in order to have a better idea of what we're working with and to help guide later decisions for model architecture. Additionally, we will perform any data cleaning that may be necessary based on our data exploration.\n",
    "\n",
    "## EDA\n",
    "\n",
    "As discovered in the Introduction, the `text`, `location`, and `keyword` columns are possible input features. The data description indicated that `location` and `keyword` may be blank, so we should first determine whether enough of these fields are non-null to be useful for training and inference, and whether the data quality is useful or not:"
   ]
  },
  {
   "cell_type": "code",
   "execution_count": 5,
   "id": "099ad8b6",
   "metadata": {
    "execution": {
     "iopub.execute_input": "2025-08-13T13:33:36.937232Z",
     "iopub.status.busy": "2025-08-13T13:33:36.936650Z",
     "iopub.status.idle": "2025-08-13T13:33:36.946676Z",
     "shell.execute_reply": "2025-08-13T13:33:36.946006Z"
    },
    "papermill": {
     "duration": 0.019342,
     "end_time": "2025-08-13T13:33:36.947678",
     "exception": false,
     "start_time": "2025-08-13T13:33:36.928336",
     "status": "completed"
    },
    "tags": []
   },
   "outputs": [
    {
     "name": "stdout",
     "output_type": "stream",
     "text": [
      "Missing Value Percentages:\n",
      "\n",
      "Training Dataset:\n",
      "  keyword   : 0.80%\n",
      "  location  : 33.27%\n",
      "\n",
      "Test Dataset:\n",
      "  keyword   : 0.80%\n",
      "  location  : 33.86%\n",
      "\n"
     ]
    }
   ],
   "source": [
    "target_cols = ['keyword','location']\n",
    "\n",
    "print(\"Missing Value Percentages:\\n\")\n",
    "for dfn, df in [('Training', train_df), ('Test', test_df)]:\n",
    "    null_ratio = df[target_cols].isnull().sum() / df.shape[0]\n",
    "    print(f\"{dfn} Dataset:\")\n",
    "    for col, ratio in null_ratio.items():\n",
    "        print(f\"  {col:<10}: {ratio:.2%}\")\n",
    "    print()"
   ]
  },
  {
   "cell_type": "code",
   "execution_count": 6,
   "id": "dd8caa29",
   "metadata": {
    "execution": {
     "iopub.execute_input": "2025-08-13T13:33:36.964863Z",
     "iopub.status.busy": "2025-08-13T13:33:36.964685Z",
     "iopub.status.idle": "2025-08-13T13:33:37.294532Z",
     "shell.execute_reply": "2025-08-13T13:33:37.293846Z"
    },
    "papermill": {
     "duration": 0.340073,
     "end_time": "2025-08-13T13:33:37.295831",
     "exception": false,
     "start_time": "2025-08-13T13:33:36.955758",
     "status": "completed"
    },
    "tags": []
   },
   "outputs": [
    {
     "data": {
      "image/png": "[encoded data removed]",
      "text/plain": [
       "<Figure size 1200x500 with 2 Axes>"
      ]
     },
     "metadata": {},
     "output_type": "display_data"
    }
   ],
   "source": [
    "train_missing = train_df[target_cols].isnull().sum()\n",
    "test_missing = test_df[target_cols].isnull().sum()\n",
    "\n",
    "missing_df = pd.DataFrame({\n",
    "    'Train': train_missing,\n",
    "    'Test': test_missing\n",
    "}).reset_index().rename(columns={'index': 'Column'})\n",
    "\n",
    "fig, axes = plt.subplots(1, 2, figsize=(12, 5), sharey=True)\n",
    "\n",
    "sns.barplot(data=missing_df, x='Column', y='Train', ax=axes[0], palette='Blues_d')\n",
    "axes[0].set_title('Missing Values in Training Dataset')\n",
    "axes[0].set_ylabel('Missing Count')\n",
    "axes[0].set_xlabel('Column')\n",
    "\n",
    "sns.barplot(data=missing_df, x='Column', y='Test', ax=axes[1], palette='Greens_d')\n",
    "axes[1].set_title('Missing Values in Test Dataset')\n",
    "axes[1].set_ylabel('')\n",
    "axes[1].set_xlabel('Column')\n",
    "\n",
    "plt.suptitle('Missing Value Counts per Target Column (Train vs Test)', fontsize=14)\n",
    "plt.tight_layout()\n",
    "plt.show()"
   ]
  },
  {
   "cell_type": "markdown",
   "id": "952c5c1b",
   "metadata": {
    "papermill": {
     "duration": 0.008423,
     "end_time": "2025-08-13T13:33:37.313481",
     "exception": false,
     "start_time": "2025-08-13T13:33:37.305058",
     "status": "completed"
    },
    "tags": []
   },
   "source": [
    "There are very few `keyword` values missing, but there is about 1/3 of the `location` values missing. We can take a look at the top `location` values used to see if they're somewhat normalized, which *might* make it worth while to fill NaN values."
   ]
  },
  {
   "cell_type": "code",
   "execution_count": 7,
   "id": "1e736cf1",
   "metadata": {
    "execution": {
     "iopub.execute_input": "2025-08-13T13:33:37.331423Z",
     "iopub.status.busy": "2025-08-13T13:33:37.331152Z",
     "iopub.status.idle": "2025-08-13T13:33:37.339797Z",
     "shell.execute_reply": "2025-08-13T13:33:37.339002Z"
    },
    "papermill": {
     "duration": 0.019024,
     "end_time": "2025-08-13T13:33:37.340933",
     "exception": false,
     "start_time": "2025-08-13T13:33:37.321909",
     "status": "completed"
    },
    "tags": []
   },
   "outputs": [
    {
     "name": "stdout",
     "output_type": "stream",
     "text": [
      "Top 20 Most Frequent Locations:\n",
      "\n",
      "location\n",
      "USA                104\n",
      "New York            71\n",
      "United States       50\n",
      "London              45\n",
      "Canada              29\n",
      "Nigeria             28\n",
      "UK                  27\n",
      "Los Angeles, CA     26\n",
      "India               24\n",
      "Mumbai              22\n",
      "Washington, DC      21\n",
      "Kenya               20\n",
      "Worldwide           19\n",
      "Chicago, IL         18\n",
      "Australia           18\n",
      "California          17\n",
      "California, USA     15\n",
      "New York, NY        15\n",
      "Everywhere          15\n",
      "San Francisco       14\n",
      "Name: count, dtype: int64\n"
     ]
    }
   ],
   "source": [
    "top_n = 20\n",
    "location_counts = train_df['location'].value_counts(dropna=True).head(top_n)\n",
    "\n",
    "print(f\"Top {top_n} Most Frequent Locations:\\n\")\n",
    "print(location_counts)"
   ]
  },
  {
   "cell_type": "markdown",
   "id": "eec71b11",
   "metadata": {
    "papermill": {
     "duration": 0.00873,
     "end_time": "2025-08-13T13:33:37.358403",
     "exception": false,
     "start_time": "2025-08-13T13:33:37.349673",
     "status": "completed"
    },
    "tags": []
   },
   "source": [
    "These values appear to indicate that `location` is likely free-form, so the column is generally not very clean and we will remove it during _Data Cleaning_.\n",
    "\n",
    "Although we won't do it here, one option could be to try to normalize the existing location data to make it potentially more useful. However, in a real-world scenario, this could cause issues at inference time if the `location` values continued to be free-form and we don't want to normalize on the fly."
   ]
  },
  {
   "cell_type": "markdown",
   "id": "24d22f26",
   "metadata": {
    "papermill": {
     "duration": 0.008245,
     "end_time": "2025-08-13T13:33:37.375401",
     "exception": false,
     "start_time": "2025-08-13T13:33:37.367156",
     "status": "completed"
    },
    "tags": []
   },
   "source": [
    "We will now look at the `keyword` column from a similar angle to determine the viability of the data as a training input.\n",
    "\n",
    "Instead of looking at top unique values, we'll take a slightly different approach and look at the ratio of unique values."
   ]
  },
  {
   "cell_type": "code",
   "execution_count": 8,
   "id": "be53cfa0",
   "metadata": {
    "execution": {
     "iopub.execute_input": "2025-08-13T13:33:37.393584Z",
     "iopub.status.busy": "2025-08-13T13:33:37.393343Z",
     "iopub.status.idle": "2025-08-13T13:33:37.401172Z",
     "shell.execute_reply": "2025-08-13T13:33:37.400417Z"
    },
    "papermill": {
     "duration": 0.018449,
     "end_time": "2025-08-13T13:33:37.402220",
     "exception": false,
     "start_time": "2025-08-13T13:33:37.383771",
     "status": "completed"
    },
    "tags": []
   },
   "outputs": [
    {
     "name": "stdout",
     "output_type": "stream",
     "text": [
      "Training Dataset - 'keyword' column:\n",
      "   Total non-null: 7552\n",
      "   Unique keyword values: 221\n",
      "   Unique ratio: 2.93%\n",
      "\n",
      "Test Dataset - 'keyword' column:\n",
      "   Total non-null: 3237\n",
      "   Unique keyword values: 221\n",
      "   Unique ratio: 6.83%\n"
     ]
    }
   ],
   "source": [
    "def calculate_uniqueness_ratio(df, column_name):\n",
    "    non_null_data = df[column_name].dropna()\n",
    "    num_unique = non_null_data.nunique()\n",
    "    total_non_null = non_null_data.shape[0]\n",
    "    unique_ratio = num_unique / total_non_null\n",
    "    return num_unique, total_non_null, unique_ratio\n",
    "\n",
    "train_unique, train_total, train_unique_ratio = calculate_uniqueness_ratio(train_df, 'keyword')\n",
    "test_unique, test_total, test_unique_ratio = calculate_uniqueness_ratio(test_df, 'keyword')\n",
    "\n",
    "print(f\"Training Dataset - 'keyword' column:\")\n",
    "print(f\"   Total non-null: {train_total}\")\n",
    "print(f\"   Unique keyword values: {train_unique}\")\n",
    "print(f\"   Unique ratio: {train_unique_ratio:.2%}\\n\")\n",
    "\n",
    "print(f\"Test Dataset - 'keyword' column:\")\n",
    "print(f\"   Total non-null: {test_total}\")\n",
    "print(f\"   Unique keyword values: {test_unique}\")\n",
    "print(f\"   Unique ratio: {test_unique_ratio:.2%}\")"
   ]
  },
  {
   "cell_type": "markdown",
   "id": "6c95fa50",
   "metadata": {
    "papermill": {
     "duration": 0.008571,
     "end_time": "2025-08-13T13:33:37.464778",
     "exception": false,
     "start_time": "2025-08-13T13:33:37.456207",
     "status": "completed"
    },
    "tags": []
   },
   "source": [
    "The ratio is fairly low for both the training and test datasets, which indicate that the values are relatively uniform and will probably provide good input for a training feature. We will of course still want to fill NaN values with something like `unknown` to help embedding layers during training."
   ]
  },
  {
   "cell_type": "markdown",
   "id": "0d0d2c81",
   "metadata": {
    "papermill": {
     "duration": 0.008365,
     "end_time": "2025-08-13T13:33:37.481720",
     "exception": false,
     "start_time": "2025-08-13T13:33:37.473355",
     "status": "completed"
    },
    "tags": []
   },
   "source": [
    "Finally, we'll get a sense of the length of Tweets via a histogram visualization."
   ]
  },
  {
   "cell_type": "code",
   "execution_count": 9,
   "id": "5cc75bff",
   "metadata": {
    "execution": {
     "iopub.execute_input": "2025-08-13T13:33:37.500295Z",
     "iopub.status.busy": "2025-08-13T13:33:37.499573Z",
     "iopub.status.idle": "2025-08-13T13:33:37.785600Z",
     "shell.execute_reply": "2025-08-13T13:33:37.784827Z"
    },
    "papermill": {
     "duration": 0.296548,
     "end_time": "2025-08-13T13:33:37.786758",
     "exception": false,
     "start_time": "2025-08-13T13:33:37.490210",
     "status": "completed"
    },
    "tags": []
   },
   "outputs": [
    {
     "data": {
      "image/png": "[encoded data removed]",
      "text/plain": [
       "<Figure size 1200x600 with 1 Axes>"
      ]
     },
     "metadata": {},
     "output_type": "display_data"
    }
   ],
   "source": [
    "plt.figure(figsize=(12, 6))\n",
    "\n",
    "plt.hist(train_df['text'].apply(len), bins=30, alpha=0.6, label='Training Tweet Lengths')\n",
    "plt.hist(test_df['text'].apply(len), bins=30, alpha=0.6, label='Test Tweet Lengths')\n",
    "\n",
    "plt.title('Tweet Lengths (Characters)')\n",
    "plt.xlabel('Tweet Length')\n",
    "plt.ylabel('Frequency')\n",
    "plt.legend()\n",
    "plt.grid(True)\n",
    "plt.tight_layout()\n",
    "plt.show()"
   ]
  },
  {
   "cell_type": "markdown",
   "id": "f5e3167b",
   "metadata": {
    "papermill": {
     "duration": 0.009591,
     "end_time": "2025-08-13T13:33:37.806538",
     "exception": false,
     "start_time": "2025-08-13T13:33:37.796947",
     "status": "completed"
    },
    "tags": []
   },
   "source": [
    "As expected, the length of Tweets mave a maximum below 160 characters since that is the original max length of SMS messages. There aren't any major outliers, and the general distribution shape between the training and test datasets are relatively uniform, so we won't perform any explicit cleaning of the `text` column. Future iterations could potentially clean the raw text with steps like separating words from punctuation and special characters to improve embedding signals."
   ]
  },
  {
   "cell_type": "code",
   "execution_count": 10,
   "id": "8a88b193",
   "metadata": {
    "execution": {
     "iopub.execute_input": "2025-08-13T13:33:37.826946Z",
     "iopub.status.busy": "2025-08-13T13:33:37.826409Z",
     "iopub.status.idle": "2025-08-13T13:33:38.104048Z",
     "shell.execute_reply": "2025-08-13T13:33:38.103300Z"
    },
    "papermill": {
     "duration": 0.288996,
     "end_time": "2025-08-13T13:33:38.105153",
     "exception": false,
     "start_time": "2025-08-13T13:33:37.816157",
     "status": "completed"
    },
    "tags": []
   },
   "outputs": [
    {
     "data": {
      "image/png": "[encoded data removed]",
      "text/plain": [
       "<Figure size 1000x500 with 1 Axes>"
      ]
     },
     "metadata": {},
     "output_type": "display_data"
    }
   ],
   "source": [
    "plt.figure(figsize=(10, 5))\n",
    "plt.hist(train_df['text'].apply(lambda x: len(x.split())), bins=30, alpha=0.7, color='skyblue', label='Training Tweets')\n",
    "plt.hist(test_df['text'].apply(lambda x: len(x.split())), bins=30, alpha=0.7, color='lightgreen', label='Test Tweets')\n",
    "plt.title('Tweet Lengths (tokens)')\n",
    "plt.xlabel('Number of Tokens')\n",
    "plt.ylabel('Frequency')\n",
    "plt.legend()\n",
    "plt.grid(True)\n",
    "plt.tight_layout()\n",
    "plt.show()"
   ]
  },
  {
   "cell_type": "markdown",
   "id": "96466a62",
   "metadata": {
    "papermill": {
     "duration": 0.010042,
     "end_time": "2025-08-13T13:33:38.125944",
     "exception": false,
     "start_time": "2025-08-13T13:33:38.115902",
     "status": "completed"
    },
    "tags": []
   },
   "source": [
    "Finally, above we can see the distribution of Tweet lengths by number of tokens (\"words\" split by spaces). The Tweets are generally fairly short, so we should take that into consideration when choosing the initial model architecture (e.g., could use 32 or 64 for the word encoding output/embedding layer input)."
   ]
  },
  {
   "cell_type": "markdown",
   "id": "ab50f47d",
   "metadata": {
    "papermill": {
     "duration": 0.009823,
     "end_time": "2025-08-13T13:33:38.145871",
     "exception": false,
     "start_time": "2025-08-13T13:33:38.136048",
     "status": "completed"
    },
    "tags": []
   },
   "source": [
    "## Data Cleaning\n",
    "\n",
    "Based on the above EDA, we'll perform the following data cleaning:\n",
    "\n",
    "* Remove the `location` column\n",
    "* Fill `NaN`s in the `keyword` column"
   ]
  },
  {
   "cell_type": "code",
   "execution_count": 11,
   "id": "72f2b470",
   "metadata": {
    "execution": {
     "iopub.execute_input": "2025-08-13T13:33:38.166775Z",
     "iopub.status.busy": "2025-08-13T13:33:38.166557Z",
     "iopub.status.idle": "2025-08-13T13:33:38.173992Z",
     "shell.execute_reply": "2025-08-13T13:33:38.173416Z"
    },
    "papermill": {
     "duration": 0.019296,
     "end_time": "2025-08-13T13:33:38.175234",
     "exception": false,
     "start_time": "2025-08-13T13:33:38.155938",
     "status": "completed"
    },
    "tags": []
   },
   "outputs": [],
   "source": [
    "# drop the \"location\" column from both datasets.\n",
    "train_df = train_df.drop(columns=['location'])\n",
    "test_df = test_df.drop(columns=['location'])\n",
    "\n",
    "# fill the keyword column with \"no_keyword\" for any NaN values.\n",
    "train_df['keyword'] = train_df['keyword'].fillna('no_keyword')\n",
    "test_df['keyword'] = test_df['keyword'].fillna('no_keyword')"
   ]
  },
  {
   "cell_type": "markdown",
   "id": "7de3bd93",
   "metadata": {
    "papermill": {
     "duration": 0.010035,
     "end_time": "2025-08-13T13:33:38.195863",
     "exception": false,
     "start_time": "2025-08-13T13:33:38.185828",
     "status": "completed"
    },
    "tags": []
   },
   "source": [
    "## Data Augmentation\n",
    "\n",
    "We don't want to lose the potential signal from the `keyword` column, so we'll append the values to the existing text, making it part of the overall input stream for a Tweet."
   ]
  },
  {
   "cell_type": "code",
   "execution_count": 12,
   "id": "e2059709",
   "metadata": {
    "execution": {
     "iopub.execute_input": "2025-08-13T13:33:38.217400Z",
     "iopub.status.busy": "2025-08-13T13:33:38.217199Z",
     "iopub.status.idle": "2025-08-13T13:33:38.224885Z",
     "shell.execute_reply": "2025-08-13T13:33:38.224383Z"
    },
    "papermill": {
     "duration": 0.019867,
     "end_time": "2025-08-13T13:33:38.225856",
     "exception": false,
     "start_time": "2025-08-13T13:33:38.205989",
     "status": "completed"
    },
    "tags": []
   },
   "outputs": [],
   "source": [
    "train_df['text'] = train_df['text'] + ' ' + train_df['keyword']\n",
    "test_df['text'] = test_df['text'] + ' ' + test_df['keyword']"
   ]
  },
  {
   "cell_type": "markdown",
   "id": "20145bb6",
   "metadata": {
    "papermill": {
     "duration": 0.01019,
     "end_time": "2025-08-13T13:33:38.246263",
     "exception": false,
     "start_time": "2025-08-13T13:33:38.236073",
     "status": "completed"
    },
    "tags": []
   },
   "source": [
    "# Model Architecture and Training\n",
    "\n",
    "In this section we will describe the initial model architecture, perform model training, and score the results for the initial model.\n",
    "\n",
    "After baseline model training and scoring, we will perform hyperparameter tuning and comparison with different model architectures/types."
   ]
  },
  {
   "cell_type": "markdown",
   "id": "e44ec849",
   "metadata": {
    "papermill": {
     "duration": 0.010498,
     "end_time": "2025-08-13T13:33:38.267041",
     "exception": false,
     "start_time": "2025-08-13T13:33:38.256543",
     "status": "completed"
    },
    "tags": []
   },
   "source": [
    "## GRU Model #1\n",
    "\n",
    "During EDA we determined that the Tweet lengths in \"words\" was almost always shorter than 30, and mostly centered around 15 for both the training and test data. In order to try to capture the semantic meaning of various words in the Tweets, we'd like to use an architecture that has \"memory\" through the sequence tokens. Two very common architectures that provide this feature are LSTM (Long Short-Term Memory) and GRU (Gated Recurrent Unit).\n",
    "\n",
    "Given the small token count, we will start with using a `GRU` layer for classification since it does not need long range memory. A GRU should result in a smaller model that we can train faster due to the slightly simpler architecture (one less gate, and combined cell/hidden state).\n",
    "\n",
    "As we know, models can't be trained with raw text, so we need to encode the text tokens as numbers. For this step, we'll use the Keras [TextVectorization](https://www.tensorflow.org/api_docs/python/tf/keras/layers/TextVectorization) layer. It will standardize strings, build a vocabulary with our training data, and basically provide a mapping from text tokens to a representative integer index. When a string is fed through the vectorizer, it will return a vector of integers representation of that string for use in model training and inference. Tweets shorter than the max token size we specify will be padded."
   ]
  },
  {
   "cell_type": "code",
   "execution_count": 13,
   "id": "51d6e305",
   "metadata": {
    "execution": {
     "iopub.execute_input": "2025-08-13T13:33:38.288597Z",
     "iopub.status.busy": "2025-08-13T13:33:38.287925Z",
     "iopub.status.idle": "2025-08-13T13:33:51.290820Z",
     "shell.execute_reply": "2025-08-13T13:33:51.290245Z"
    },
    "papermill": {
     "duration": 13.015027,
     "end_time": "2025-08-13T13:33:51.292221",
     "exception": false,
     "start_time": "2025-08-13T13:33:38.277194",
     "status": "completed"
    },
    "tags": []
   },
   "outputs": [
    {
     "name": "stderr",
     "output_type": "stream",
     "text": [
      "2025-08-13 13:33:40.064662: E external/local_xla/xla/stream_executor/cuda/cuda_fft.cc:477] Unable to register cuFFT factory: Attempting to register factory for plugin cuFFT when one has already been registered\n",
      "WARNING: All log messages before absl::InitializeLog() is called are written to STDERR\n",
      "E0000 00:00:1755092020.258749      19 cuda_dnn.cc:8310] Unable to register cuDNN factory: Attempting to register factory for plugin cuDNN when one has already been registered\n",
      "E0000 00:00:1755092020.329554      19 cuda_blas.cc:1418] Unable to register cuBLAS factory: Attempting to register factory for plugin cuBLAS when one has already been registered\n"
     ]
    }
   ],
   "source": [
    "import tensorflow as tf\n",
    "from tensorflow.keras.models import Sequential\n",
    "from tensorflow.keras.layers import Embedding, GRU, Dense, Dropout, TextVectorization\n",
    "from sklearn.model_selection import train_test_split\n",
    "\n",
    "tf.random.set_seed(global_random_seed)"
   ]
  },
  {
   "cell_type": "code",
   "execution_count": 14,
   "id": "6eaca356",
   "metadata": {
    "execution": {
     "iopub.execute_input": "2025-08-13T13:33:51.314505Z",
     "iopub.status.busy": "2025-08-13T13:33:51.314050Z",
     "iopub.status.idle": "2025-08-13T13:33:52.308261Z",
     "shell.execute_reply": "2025-08-13T13:33:52.307439Z"
    },
    "papermill": {
     "duration": 1.006561,
     "end_time": "2025-08-13T13:33:52.309703",
     "exception": false,
     "start_time": "2025-08-13T13:33:51.303142",
     "status": "completed"
    },
    "tags": []
   },
   "outputs": [
    {
     "name": "stderr",
     "output_type": "stream",
     "text": [
      "I0000 00:00:1755092032.102203      19 gpu_device.cc:2022] Created device /job:localhost/replica:0/task:0/device:GPU:0 with 15513 MB memory:  -> device: 0, name: Tesla P100-PCIE-16GB, pci bus id: 0000:00:04.0, compute capability: 6.0\n"
     ]
    }
   ],
   "source": [
    "# Set up the TextVectorization layer for our training data. Use output_sequence_length based on our knowledge\n",
    "# of max Tweet token length. Choose a relatively large max vocab size of 10000.\n",
    "vocab_size = 10000\n",
    "max_tweet_tokens = 35\n",
    "vectorizer = TextVectorization(\n",
    "    max_tokens=vocab_size,\n",
    "    output_sequence_length=max_tweet_tokens,\n",
    "    output_mode=\"int\"\n",
    ")\n",
    "vectorizer.adapt(train_df['text'].values)"
   ]
  },
  {
   "cell_type": "markdown",
   "id": "b0826ddd",
   "metadata": {
    "papermill": {
     "duration": 0.010072,
     "end_time": "2025-08-13T13:33:52.330647",
     "exception": false,
     "start_time": "2025-08-13T13:33:52.320575",
     "status": "completed"
    },
    "tags": []
   },
   "source": [
    "We can now see how the vectorizer has encoded a sample Tweet. Note that a trailing padding of zeros has been applied to the returned vector, text has been lower-cased, and special characters removed. We also have an `[UNK]` token, indicating that `pours` is not in the vectorizer's vocabulary."
   ]
  },
  {
   "cell_type": "code",
   "execution_count": 15,
   "id": "311644df",
   "metadata": {
    "execution": {
     "iopub.execute_input": "2025-08-13T13:33:52.351943Z",
     "iopub.status.busy": "2025-08-13T13:33:52.351693Z",
     "iopub.status.idle": "2025-08-13T13:33:53.556761Z",
     "shell.execute_reply": "2025-08-13T13:33:53.555876Z"
    },
    "papermill": {
     "duration": 1.217313,
     "end_time": "2025-08-13T13:33:53.558143",
     "exception": false,
     "start_time": "2025-08-13T13:33:52.340830",
     "status": "completed"
    },
    "tags": []
   },
   "outputs": [
    {
     "name": "stdout",
     "output_type": "stream",
     "text": [
      "Just got sent this photo from Ruby #Alaska as smoke from #wildfires pours into a school  no_keyword\n",
      "\n",
      "tf.Tensor(\n",
      "[  29   99 1232   19  463   20 9594 2401   26  165   20 1391    1   69\n",
      "    3  295  329    0    0    0    0    0    0    0    0    0    0    0\n",
      "    0    0    0    0    0    0    0], shape=(35,), dtype=int64)\n",
      "\n",
      "just got sent this photo from ruby alaska as smoke from wildfires [UNK] into a school nokeyword                  \n"
     ]
    }
   ],
   "source": [
    "sample_tweet = train_df['text'][4]\n",
    "print(sample_tweet)\n",
    "print()\n",
    "print(vectorizer(sample_tweet))\n",
    "print()\n",
    "tmp_vocab = vectorizer.get_vocabulary()\n",
    "reconstructed_string = ' '.join([tmp_vocab[i] for i in vectorizer(sample_tweet)])\n",
    "print(reconstructed_string)"
   ]
  },
  {
   "cell_type": "markdown",
   "id": "844862e7",
   "metadata": {
    "papermill": {
     "duration": 0.010199,
     "end_time": "2025-08-13T13:33:53.579421",
     "exception": false,
     "start_time": "2025-08-13T13:33:53.569222",
     "status": "completed"
    },
    "tags": []
   },
   "source": [
    "Now to build and train the GRU model.\n",
    "\n",
    "We'll use a basic architecture around the GRU layer:\n",
    "* Vectorizer consumes text and feeds fixed-length vectors into the Embedding layer, which builds the word embeddings during training.\n",
    "* Embeddings feed into the GRU layer, starting with a round number of 64 units.\n",
    "* GRU output is fed through a 50% Dropout layer to try to help avoid some overfitting.\n",
    "* Dropout feeds into a fully-connected (Dense) layer with ReLU activation, then to the final single-unit Dense layer with signmoid activation for binary classification."
   ]
  },
  {
   "cell_type": "code",
   "execution_count": 16,
   "id": "8d861eb2",
   "metadata": {
    "execution": {
     "iopub.execute_input": "2025-08-13T13:33:53.601004Z",
     "iopub.status.busy": "2025-08-13T13:33:53.600762Z",
     "iopub.status.idle": "2025-08-13T13:33:53.632746Z",
     "shell.execute_reply": "2025-08-13T13:33:53.632230Z"
    },
    "papermill": {
     "duration": 0.044191,
     "end_time": "2025-08-13T13:33:53.633775",
     "exception": false,
     "start_time": "2025-08-13T13:33:53.589584",
     "status": "completed"
    },
    "tags": []
   },
   "outputs": [],
   "source": [
    "texts = train_df[\"text\"].values\n",
    "labels = train_df[\"target\"].values\n",
    "\n",
    "# Split training data into training and validation sets.\n",
    "X_train, X_val, y_train, y_val = train_test_split(texts, labels, test_size=0.2, random_state=42)\n",
    "\n",
    "# Initial model is a GRU using our TextVectorization to feed through an Embedding layer before the GRU layer.\n",
    "model = Sequential([\n",
    "    vectorizer,\n",
    "    Embedding(input_dim=vocab_size, output_dim=64),\n",
    "    GRU(64, return_sequences=False),\n",
    "    Dropout(0.5),\n",
    "    Dense(32, activation='relu'),\n",
    "    Dense(1, activation='sigmoid')  # binary classification\n",
    "])\n",
    "\n",
    "model.compile(loss=\"binary_crossentropy\", optimizer=\"adam\", metrics=[\"accuracy\"])"
   ]
  },
  {
   "cell_type": "code",
   "execution_count": 17,
   "id": "30ce3a1b",
   "metadata": {
    "execution": {
     "iopub.execute_input": "2025-08-13T13:33:53.656137Z",
     "iopub.status.busy": "2025-08-13T13:33:53.655896Z",
     "iopub.status.idle": "2025-08-13T13:34:13.176745Z",
     "shell.execute_reply": "2025-08-13T13:34:13.175998Z"
    },
    "papermill": {
     "duration": 19.533908,
     "end_time": "2025-08-13T13:34:13.178211",
     "exception": false,
     "start_time": "2025-08-13T13:33:53.644303",
     "status": "completed"
    },
    "tags": []
   },
   "outputs": [
    {
     "name": "stdout",
     "output_type": "stream",
     "text": [
      "Epoch 1/10\n"
     ]
    },
    {
     "name": "stderr",
     "output_type": "stream",
     "text": [
      "I0000 00:00:1755092038.087886      56 cuda_dnn.cc:529] Loaded cuDNN version 90300\n"
     ]
    },
    {
     "name": "stdout",
     "output_type": "stream",
     "text": [
      "\u001b[1m191/191\u001b[0m \u001b[32m━━━━━━━━━━━━━━━━━━━━\u001b[0m\u001b[37m\u001b[0m \u001b[1m8s\u001b[0m 9ms/step - accuracy: 0.5480 - loss: 0.6886 - val_accuracy: 0.5739 - val_loss: 0.6847\n",
      "Epoch 2/10\n",
      "\u001b[1m191/191\u001b[0m \u001b[32m━━━━━━━━━━━━━━━━━━━━\u001b[0m\u001b[37m\u001b[0m \u001b[1m1s\u001b[0m 7ms/step - accuracy: 0.5637 - loss: 0.6872 - val_accuracy: 0.5739 - val_loss: 0.6835\n",
      "Epoch 3/10\n",
      "\u001b[1m191/191\u001b[0m \u001b[32m━━━━━━━━━━━━━━━━━━━━\u001b[0m\u001b[37m\u001b[0m \u001b[1m1s\u001b[0m 7ms/step - accuracy: 0.5636 - loss: 0.6873 - val_accuracy: 0.5739 - val_loss: 0.6841\n",
      "Epoch 4/10\n",
      "\u001b[1m191/191\u001b[0m \u001b[32m━━━━━━━━━━━━━━━━━━━━\u001b[0m\u001b[37m\u001b[0m \u001b[1m1s\u001b[0m 7ms/step - accuracy: 0.6379 - loss: 0.6152 - val_accuracy: 0.7997 - val_loss: 0.4440\n",
      "Epoch 5/10\n",
      "\u001b[1m191/191\u001b[0m \u001b[32m━━━━━━━━━━━━━━━━━━━━\u001b[0m\u001b[37m\u001b[0m \u001b[1m1s\u001b[0m 7ms/step - accuracy: 0.8532 - loss: 0.3653 - val_accuracy: 0.7965 - val_loss: 0.5084\n",
      "Epoch 6/10\n",
      "\u001b[1m191/191\u001b[0m \u001b[32m━━━━━━━━━━━━━━━━━━━━\u001b[0m\u001b[37m\u001b[0m \u001b[1m1s\u001b[0m 7ms/step - accuracy: 0.9096 - loss: 0.2461 - val_accuracy: 0.7814 - val_loss: 0.5813\n",
      "Epoch 7/10\n",
      "\u001b[1m191/191\u001b[0m \u001b[32m━━━━━━━━━━━━━━━━━━━━\u001b[0m\u001b[37m\u001b[0m \u001b[1m1s\u001b[0m 7ms/step - accuracy: 0.9385 - loss: 0.1705 - val_accuracy: 0.7761 - val_loss: 0.7613\n",
      "Epoch 8/10\n",
      "\u001b[1m191/191\u001b[0m \u001b[32m━━━━━━━━━━━━━━━━━━━━\u001b[0m\u001b[37m\u001b[0m \u001b[1m1s\u001b[0m 7ms/step - accuracy: 0.9600 - loss: 0.1158 - val_accuracy: 0.7814 - val_loss: 0.9136\n",
      "Epoch 9/10\n",
      "\u001b[1m191/191\u001b[0m \u001b[32m━━━━━━━━━━━━━━━━━━━━\u001b[0m\u001b[37m\u001b[0m \u001b[1m1s\u001b[0m 7ms/step - accuracy: 0.9669 - loss: 0.0883 - val_accuracy: 0.7735 - val_loss: 1.0257\n",
      "Epoch 10/10\n",
      "\u001b[1m191/191\u001b[0m \u001b[32m━━━━━━━━━━━━━━━━━━━━\u001b[0m\u001b[37m\u001b[0m \u001b[1m1s\u001b[0m 7ms/step - accuracy: 0.9735 - loss: 0.0711 - val_accuracy: 0.7649 - val_loss: 0.9824\n"
     ]
    }
   ],
   "source": [
    "# %%time\n",
    "history = model.fit(X_train, y_train, epochs=10, batch_size=32, validation_data=(X_val, y_val))"
   ]
  },
  {
   "cell_type": "code",
   "execution_count": 18,
   "id": "57bb7b53",
   "metadata": {
    "execution": {
     "iopub.execute_input": "2025-08-13T13:34:13.219994Z",
     "iopub.status.busy": "2025-08-13T13:34:13.219718Z",
     "iopub.status.idle": "2025-08-13T13:34:13.235380Z",
     "shell.execute_reply": "2025-08-13T13:34:13.234662Z"
    },
    "papermill": {
     "duration": 0.037184,
     "end_time": "2025-08-13T13:34:13.236513",
     "exception": false,
     "start_time": "2025-08-13T13:34:13.199329",
     "status": "completed"
    },
    "tags": []
   },
   "outputs": [
    {
     "data": {
      "text/html": [
       "<pre style=\"white-space:pre;overflow-x:auto;line-height:normal;font-family:Menlo,'DejaVu Sans Mono',consolas,'Courier New',monospace\"><span style=\"font-weight: bold\">Model: \"sequential\"</span>\n",
       "</pre>\n"
      ],
      "text/plain": [
       "\u001b[1mModel: \"sequential\"\u001b[0m\n"
      ]
     },
     "metadata": {},
     "output_type": "display_data"
    },
    {
     "data": {
      "text/html": [
       "<pre style=\"white-space:pre;overflow-x:auto;line-height:normal;font-family:Menlo,'DejaVu Sans Mono',consolas,'Courier New',monospace\">┏━━━━━━━━━━━━━━━━━━━━━━━━━━━━━━━━━┳━━━━━━━━━━━━━━━━━━━━━━━━┳━━━━━━━━━━━━━━━┓\n",
       "┃<span style=\"font-weight: bold\"> Layer (type)                    </span>┃<span style=\"font-weight: bold\"> Output Shape           </span>┃<span style=\"font-weight: bold\">       Param # </span>┃\n",
       "┡━━━━━━━━━━━━━━━━━━━━━━━━━━━━━━━━━╇━━━━━━━━━━━━━━━━━━━━━━━━╇━━━━━━━━━━━━━━━┩\n",
       "│ text_vectorization              │ (<span style=\"color: #00d7ff; text-decoration-color: #00d7ff\">None</span>, <span style=\"color: #00af00; text-decoration-color: #00af00\">35</span>)             │             <span style=\"color: #00af00; text-decoration-color: #00af00\">0</span> │\n",
       "│ (<span style=\"color: #0087ff; text-decoration-color: #0087ff\">TextVectorization</span>)             │                        │               │\n",
       "├─────────────────────────────────┼────────────────────────┼───────────────┤\n",
       "│ embedding (<span style=\"color: #0087ff; text-decoration-color: #0087ff\">Embedding</span>)           │ (<span style=\"color: #00d7ff; text-decoration-color: #00d7ff\">None</span>, <span style=\"color: #00af00; text-decoration-color: #00af00\">35</span>, <span style=\"color: #00af00; text-decoration-color: #00af00\">64</span>)         │       <span style=\"color: #00af00; text-decoration-color: #00af00\">640,000</span> │\n",
       "├─────────────────────────────────┼────────────────────────┼───────────────┤\n",
       "│ gru (<span style=\"color: #0087ff; text-decoration-color: #0087ff\">GRU</span>)                       │ (<span style=\"color: #00d7ff; text-decoration-color: #00d7ff\">None</span>, <span style=\"color: #00af00; text-decoration-color: #00af00\">64</span>)             │        <span style=\"color: #00af00; text-decoration-color: #00af00\">24,960</span> │\n",
       "├─────────────────────────────────┼────────────────────────┼───────────────┤\n",
       "│ dropout (<span style=\"color: #0087ff; text-decoration-color: #0087ff\">Dropout</span>)               │ (<span style=\"color: #00d7ff; text-decoration-color: #00d7ff\">None</span>, <span style=\"color: #00af00; text-decoration-color: #00af00\">64</span>)             │             <span style=\"color: #00af00; text-decoration-color: #00af00\">0</span> │\n",
       "├─────────────────────────────────┼────────────────────────┼───────────────┤\n",
       "│ dense (<span style=\"color: #0087ff; text-decoration-color: #0087ff\">Dense</span>)                   │ (<span style=\"color: #00d7ff; text-decoration-color: #00d7ff\">None</span>, <span style=\"color: #00af00; text-decoration-color: #00af00\">32</span>)             │         <span style=\"color: #00af00; text-decoration-color: #00af00\">2,080</span> │\n",
       "├─────────────────────────────────┼────────────────────────┼───────────────┤\n",
       "│ dense_1 (<span style=\"color: #0087ff; text-decoration-color: #0087ff\">Dense</span>)                 │ (<span style=\"color: #00d7ff; text-decoration-color: #00d7ff\">None</span>, <span style=\"color: #00af00; text-decoration-color: #00af00\">1</span>)              │            <span style=\"color: #00af00; text-decoration-color: #00af00\">33</span> │\n",
       "└─────────────────────────────────┴────────────────────────┴───────────────┘\n",
       "</pre>\n"
      ],
      "text/plain": [
       "┏━━━━━━━━━━━━━━━━━━━━━━━━━━━━━━━━━┳━━━━━━━━━━━━━━━━━━━━━━━━┳━━━━━━━━━━━━━━━┓\n",
       "┃\u001b[1m \u001b[0m\u001b[1mLayer (type)                   \u001b[0m\u001b[1m \u001b[0m┃\u001b[1m \u001b[0m\u001b[1mOutput Shape          \u001b[0m\u001b[1m \u001b[0m┃\u001b[1m \u001b[0m\u001b[1m      Param #\u001b[0m\u001b[1m \u001b[0m┃\n",
       "┡━━━━━━━━━━━━━━━━━━━━━━━━━━━━━━━━━╇━━━━━━━━━━━━━━━━━━━━━━━━╇━━━━━━━━━━━━━━━┩\n",
       "│ text_vectorization              │ (\u001b[38;5;45mNone\u001b[0m, \u001b[38;5;34m35\u001b[0m)             │             \u001b[38;5;34m0\u001b[0m │\n",
       "│ (\u001b[38;5;33mTextVectorization\u001b[0m)             │                        │               │\n",
       "├─────────────────────────────────┼────────────────────────┼───────────────┤\n",
       "│ embedding (\u001b[38;5;33mEmbedding\u001b[0m)           │ (\u001b[38;5;45mNone\u001b[0m, \u001b[38;5;34m35\u001b[0m, \u001b[38;5;34m64\u001b[0m)         │       \u001b[38;5;34m640,000\u001b[0m │\n",
       "├─────────────────────────────────┼────────────────────────┼───────────────┤\n",
       "│ gru (\u001b[38;5;33mGRU\u001b[0m)                       │ (\u001b[38;5;45mNone\u001b[0m, \u001b[38;5;34m64\u001b[0m)             │        \u001b[38;5;34m24,960\u001b[0m │\n",
       "├─────────────────────────────────┼────────────────────────┼───────────────┤\n",
       "│ dropout (\u001b[38;5;33mDropout\u001b[0m)               │ (\u001b[38;5;45mNone\u001b[0m, \u001b[38;5;34m64\u001b[0m)             │             \u001b[38;5;34m0\u001b[0m │\n",
       "├─────────────────────────────────┼────────────────────────┼───────────────┤\n",
       "│ dense (\u001b[38;5;33mDense\u001b[0m)                   │ (\u001b[38;5;45mNone\u001b[0m, \u001b[38;5;34m32\u001b[0m)             │         \u001b[38;5;34m2,080\u001b[0m │\n",
       "├─────────────────────────────────┼────────────────────────┼───────────────┤\n",
       "│ dense_1 (\u001b[38;5;33mDense\u001b[0m)                 │ (\u001b[38;5;45mNone\u001b[0m, \u001b[38;5;34m1\u001b[0m)              │            \u001b[38;5;34m33\u001b[0m │\n",
       "└─────────────────────────────────┴────────────────────────┴───────────────┘\n"
      ]
     },
     "metadata": {},
     "output_type": "display_data"
    },
    {
     "data": {
      "text/html": [
       "<pre style=\"white-space:pre;overflow-x:auto;line-height:normal;font-family:Menlo,'DejaVu Sans Mono',consolas,'Courier New',monospace\"><span style=\"font-weight: bold\"> Total params: </span><span style=\"color: #00af00; text-decoration-color: #00af00\">2,001,221</span> (7.63 MB)\n",
       "</pre>\n"
      ],
      "text/plain": [
       "\u001b[1m Total params: \u001b[0m\u001b[38;5;34m2,001,221\u001b[0m (7.63 MB)\n"
      ]
     },
     "metadata": {},
     "output_type": "display_data"
    },
    {
     "data": {
      "text/html": [
       "<pre style=\"white-space:pre;overflow-x:auto;line-height:normal;font-family:Menlo,'DejaVu Sans Mono',consolas,'Courier New',monospace\"><span style=\"font-weight: bold\"> Trainable params: </span><span style=\"color: #00af00; text-decoration-color: #00af00\">667,073</span> (2.54 MB)\n",
       "</pre>\n"
      ],
      "text/plain": [
       "\u001b[1m Trainable params: \u001b[0m\u001b[38;5;34m667,073\u001b[0m (2.54 MB)\n"
      ]
     },
     "metadata": {},
     "output_type": "display_data"
    },
    {
     "data": {
      "text/html": [
       "<pre style=\"white-space:pre;overflow-x:auto;line-height:normal;font-family:Menlo,'DejaVu Sans Mono',consolas,'Courier New',monospace\"><span style=\"font-weight: bold\"> Non-trainable params: </span><span style=\"color: #00af00; text-decoration-color: #00af00\">0</span> (0.00 B)\n",
       "</pre>\n"
      ],
      "text/plain": [
       "\u001b[1m Non-trainable params: \u001b[0m\u001b[38;5;34m0\u001b[0m (0.00 B)\n"
      ]
     },
     "metadata": {},
     "output_type": "display_data"
    },
    {
     "data": {
      "text/html": [
       "<pre style=\"white-space:pre;overflow-x:auto;line-height:normal;font-family:Menlo,'DejaVu Sans Mono',consolas,'Courier New',monospace\"><span style=\"font-weight: bold\"> Optimizer params: </span><span style=\"color: #00af00; text-decoration-color: #00af00\">1,334,148</span> (5.09 MB)\n",
       "</pre>\n"
      ],
      "text/plain": [
       "\u001b[1m Optimizer params: \u001b[0m\u001b[38;5;34m1,334,148\u001b[0m (5.09 MB)\n"
      ]
     },
     "metadata": {},
     "output_type": "display_data"
    }
   ],
   "source": [
    "model.summary()"
   ]
  },
  {
   "cell_type": "code",
   "execution_count": 19,
   "id": "32b6e675",
   "metadata": {
    "execution": {
     "iopub.execute_input": "2025-08-13T13:34:13.278211Z",
     "iopub.status.busy": "2025-08-13T13:34:13.277954Z",
     "iopub.status.idle": "2025-08-13T13:34:14.128453Z",
     "shell.execute_reply": "2025-08-13T13:34:14.127837Z"
    },
    "papermill": {
     "duration": 0.872482,
     "end_time": "2025-08-13T13:34:14.129731",
     "exception": false,
     "start_time": "2025-08-13T13:34:13.257249",
     "status": "completed"
    },
    "tags": []
   },
   "outputs": [
    {
     "name": "stdout",
     "output_type": "stream",
     "text": [
      "\u001b[1m102/102\u001b[0m \u001b[32m━━━━━━━━━━━━━━━━━━━━\u001b[0m\u001b[37m\u001b[0m \u001b[1m1s\u001b[0m 5ms/step\n"
     ]
    }
   ],
   "source": [
    "pred_probs = model.predict(test_df[\"text\"].values)\n",
    "pred_labels = (pred_probs > 0.5).astype(int).reshape(-1)\n",
    "\n",
    "# Prepare submission\n",
    "submission_df = pd.DataFrame({\n",
    "    \"id\": test_df[\"id\"],\n",
    "    \"target\": pred_labels\n",
    "})\n",
    "\n",
    "# Write to CSV (uncomment only for initial GRU model eval)\n",
    "# submission_df.to_csv(\"submission.csv\", index=False)"
   ]
  },
  {
   "cell_type": "code",
   "execution_count": 20,
   "id": "4d9a389b",
   "metadata": {
    "_kg_hide-input": true,
    "execution": {
     "iopub.execute_input": "2025-08-13T13:34:14.172545Z",
     "iopub.status.busy": "2025-08-13T13:34:14.172301Z",
     "iopub.status.idle": "2025-08-13T13:34:14.177304Z",
     "shell.execute_reply": "2025-08-13T13:34:14.176742Z"
    },
    "papermill": {
     "duration": 0.027193,
     "end_time": "2025-08-13T13:34:14.178418",
     "exception": false,
     "start_time": "2025-08-13T13:34:14.151225",
     "status": "completed"
    },
    "tags": []
   },
   "outputs": [],
   "source": [
    "# displayConfusionMatrix function\n",
    "from sklearn.metrics import ConfusionMatrixDisplay, confusion_matrix\n",
    "\n",
    "# Modified from https://www.kaggle.com/code/alexia/kerasnlp-starter-notebook-disaster-tweets\n",
    "def displayConfusionMatrix(y_true, y_pred, dataset):\n",
    "    y_pred_true = (y_pred > 0.5).astype(int)\n",
    "    disp = ConfusionMatrixDisplay.from_predictions(\n",
    "        y_true,\n",
    "        y_pred_true,\n",
    "        display_labels=[\"Not Disaster\",\"Disaster\"],\n",
    "        cmap=plt.cm.Blues\n",
    "    )\n",
    "\n",
    "    tn, fp, fn, tp = confusion_matrix(y_true, y_pred_true).ravel()\n",
    "    f1_score = tp / (tp+((fn+fp)/2))\n",
    "    precision = tp / (tp+fp)\n",
    "    recall = tp / (tp+fn)\n",
    "\n",
    "    disp.ax_.set_title(\"Confusion Matrix on \" + dataset + \" Dataset -- F1 Score: \" + str(f1_score.round(2)))\n",
    "    print(f'Precision: {precision}   Recall: {recall}')"
   ]
  },
  {
   "cell_type": "markdown",
   "id": "3c08ebaf",
   "metadata": {
    "papermill": {
     "duration": 0.020095,
     "end_time": "2025-08-13T13:34:14.219198",
     "exception": false,
     "start_time": "2025-08-13T13:34:14.199103",
     "status": "completed"
    },
    "tags": []
   },
   "source": [
    "## GRU Model #1: Results\n",
    "\n",
    "Upon submission to the Kaggle competition, the initial GRU model using the TextVectorization model scored `0.76555` as the F1 score.\n",
    "\n",
    "We can further look at confusion matrices and F1 scores for the training and validation sets to extract more information about the performance of the model."
   ]
  },
  {
   "cell_type": "code",
   "execution_count": 21,
   "id": "efc805ce",
   "metadata": {
    "execution": {
     "iopub.execute_input": "2025-08-13T13:34:14.260603Z",
     "iopub.status.busy": "2025-08-13T13:34:14.260389Z",
     "iopub.status.idle": "2025-08-13T13:34:15.082955Z",
     "shell.execute_reply": "2025-08-13T13:34:15.082106Z"
    },
    "papermill": {
     "duration": 0.844918,
     "end_time": "2025-08-13T13:34:15.084238",
     "exception": false,
     "start_time": "2025-08-13T13:34:14.239320",
     "status": "completed"
    },
    "tags": []
   },
   "outputs": [
    {
     "name": "stdout",
     "output_type": "stream",
     "text": [
      "\u001b[1m191/191\u001b[0m \u001b[32m━━━━━━━━━━━━━━━━━━━━\u001b[0m\u001b[37m\u001b[0m \u001b[1m0s\u001b[0m 2ms/step\n",
      "Precision: 0.9975825946817083   Recall: 0.9443173150266971\n"
     ]
    },
    {
     "data": {
      "image/png": "[encoded data removed]",
      "text/plain": [
       "<Figure size 640x480 with 2 Axes>"
      ]
     },
     "metadata": {},
     "output_type": "display_data"
    }
   ],
   "source": [
    "y_pred_train = model.predict(X_train)\n",
    "displayConfusionMatrix(y_train, y_pred_train, \"Training\")"
   ]
  },
  {
   "cell_type": "markdown",
   "id": "acc3dcaf",
   "metadata": {
    "papermill": {
     "duration": 0.021701,
     "end_time": "2025-08-13T13:34:15.128824",
     "exception": false,
     "start_time": "2025-08-13T13:34:15.107123",
     "status": "completed"
    },
    "tags": []
   },
   "source": [
    "The GRU model has an F1 score of `0.98` on the training dataset, which we might expect to be relatively high given this dataset primarily drives model convergence.\n",
    "\n",
    "**Precision** was also high at `0.993`, indicating low false positives. **Recall** was also relatively high at `0.966`, indicating low false negatives.\n",
    "\n",
    "Again, this is the training set, so we expect these scores to be relatively high. However, note should be taken that these very high scores _could_ indicate overfitting on the trainig set."
   ]
  },
  {
   "cell_type": "code",
   "execution_count": 22,
   "id": "2f1503a2",
   "metadata": {
    "execution": {
     "iopub.execute_input": "2025-08-13T13:34:15.173239Z",
     "iopub.status.busy": "2025-08-13T13:34:15.172891Z",
     "iopub.status.idle": "2025-08-13T13:34:15.567219Z",
     "shell.execute_reply": "2025-08-13T13:34:15.566443Z"
    },
    "papermill": {
     "duration": 0.418007,
     "end_time": "2025-08-13T13:34:15.568532",
     "exception": false,
     "start_time": "2025-08-13T13:34:15.150525",
     "status": "completed"
    },
    "tags": []
   },
   "outputs": [
    {
     "name": "stdout",
     "output_type": "stream",
     "text": [
      "\u001b[1m48/48\u001b[0m \u001b[32m━━━━━━━━━━━━━━━━━━━━\u001b[0m\u001b[37m\u001b[0m \u001b[1m0s\u001b[0m 3ms/step\n",
      "Precision: 0.7566137566137566   Recall: 0.6610169491525424\n"
     ]
    },
    {
     "data": {
      "image/png": "[encoded data removed]",
      "text/plain": [
       "<Figure size 640x480 with 2 Axes>"
      ]
     },
     "metadata": {},
     "output_type": "display_data"
    }
   ],
   "source": [
    "y_pred_val = model.predict(X_val)\n",
    "displayConfusionMatrix(y_val, y_pred_val, \"Validation\")"
   ]
  },
  {
   "cell_type": "markdown",
   "id": "f9ebba54",
   "metadata": {
    "papermill": {
     "duration": 0.021994,
     "end_time": "2025-08-13T13:34:15.613972",
     "exception": false,
     "start_time": "2025-08-13T13:34:15.591978",
     "status": "completed"
    },
    "tags": []
   },
   "source": [
    "The GRU model has an F1 score of `0.72` on the validation dataset, which gives us a better view of how the model _might_ perform on unseen data.\n",
    "\n",
    "**Precision** was modest at `0.74`, which tells us that 26% of Tweets identified as indicating a disaster would not be real disasters. **Recall** was also modest at `0.70`, indicating 30% of Tweets indentified as *not* disasters would actually be disasters.\n",
    "\n",
    "As a baseline model, the performance is mediocer with somewhat high true negatives and false positives. We want to try to do better to avoid, for example, alerting emergency services when not necessary or missing alerting emergency services for real disasters."
   ]
  },
  {
   "cell_type": "markdown",
   "id": "88013337",
   "metadata": {
    "papermill": {
     "duration": 0.025889,
     "end_time": "2025-08-13T13:34:15.662147",
     "exception": false,
     "start_time": "2025-08-13T13:34:15.636258",
     "status": "completed"
    },
    "tags": []
   },
   "source": [
    "## GRU Model #1: Hyperparameter Tuning\n",
    "\n",
    "We will now work through tuning hyperparameters for better results using the `GRU` model.\n",
    "\n",
    "The [Keras RandomSearch Tuner](https://keras.io/keras_tuner/api/tuners/random/) is very useful for searching a space of potential hyperparameters that result in the best model performance. We will base model performance on validation accuracy for the hyperparameter search.\n",
    "\n",
    "The tuner works by being provided a function to build an iteration of a model for a given set of hyperparameters as provided by the passed `HyperParameters` object. We just have to provide a list or range of hyperparameters to try for each tunable, build the model, compile it, and return it.\n",
    "\n",
    "The tuner will run `max_trials` combinations of tunable parameters (or less if it runs out) and keeps track of the best model along with results from all trials.\n",
    "\n",
    "We'll then call the `search()` method with the same parameters we'd normally pass to `fit()`."
   ]
  },
  {
   "cell_type": "code",
   "execution_count": 23,
   "id": "a49b2bbc",
   "metadata": {
    "execution": {
     "iopub.execute_input": "2025-08-13T13:34:15.710544Z",
     "iopub.status.busy": "2025-08-13T13:34:15.709830Z",
     "iopub.status.idle": "2025-08-13T13:34:16.002464Z",
     "shell.execute_reply": "2025-08-13T13:34:16.001653Z"
    },
    "papermill": {
     "duration": 0.317148,
     "end_time": "2025-08-13T13:34:16.003810",
     "exception": false,
     "start_time": "2025-08-13T13:34:15.686662",
     "status": "completed"
    },
    "tags": []
   },
   "outputs": [],
   "source": [
    "import keras_tuner as kt\n",
    "\n",
    "vocab_size = len(vectorizer.get_vocabulary())\n",
    "\n",
    "def build_gru_model(hp):\n",
    "    model = tf.keras.Sequential()\n",
    "    model.add(vectorizer)\n",
    "    model.add(tf.keras.layers.Embedding(\n",
    "        input_dim=vocab_size,\n",
    "        output_dim=hp.Choice('embed_dim', values=[32, 64, 128]),\n",
    "    ))\n",
    "    model.add(tf.keras.layers.GRU(\n",
    "        units=hp.Choice('gru_units', values=[32, 64, 128]),\n",
    "        dropout=hp.Float('dropout', min_value=0.2, max_value=0.5, step=0.1),\n",
    "        recurrent_dropout=0.0,\n",
    "        # recurrent_dropout=hp.Float('recurrent_dropout', min_value=0.2, max_value=0.5, step=0.1),\n",
    "    ))\n",
    "    model.add(tf.keras.layers.Dense(units=hp.Choice('post_gru_dense_units',\n",
    "                                                    values=[16, 32, 64]),\n",
    "                                    activation='relu'))\n",
    "    model.add(tf.keras.layers.Dense(1, activation='sigmoid'))\n",
    "\n",
    "    model.compile(\n",
    "        optimizer=tf.keras.optimizers.Adam(\n",
    "            learning_rate=hp.Choice('learning_rate', values=[5e-3, 1e-3, 5e-4, 1e-4])\n",
    "        ),\n",
    "        loss='binary_crossentropy',\n",
    "        metrics=['accuracy']\n",
    "    )\n",
    "    \n",
    "    return model\n",
    "\n",
    "tuner = kt.RandomSearch(\n",
    "    build_gru_model,\n",
    "    objective='val_accuracy',\n",
    "    max_trials=30,  # Number of parameter combinations to try\n",
    "    executions_per_trial=1,\n",
    "    overwrite=True,\n",
    "    directory='tuner_results',\n",
    "    project_name='gru_disaster_tweets'\n",
    ")\n",
    "\n",
    "early_stop = tf.keras.callbacks.EarlyStopping(\n",
    "    monitor='val_loss',\n",
    "    patience=2,\n",
    "    restore_best_weights=True\n",
    ")\n",
    "\n"
   ]
  },
  {
   "cell_type": "code",
   "execution_count": 24,
   "id": "42c4d188",
   "metadata": {
    "execution": {
     "iopub.execute_input": "2025-08-13T13:34:16.050865Z",
     "iopub.status.busy": "2025-08-13T13:34:16.050623Z",
     "iopub.status.idle": "2025-08-13T13:40:12.412819Z",
     "shell.execute_reply": "2025-08-13T13:40:12.412191Z"
    },
    "papermill": {
     "duration": 356.386821,
     "end_time": "2025-08-13T13:40:12.413986",
     "exception": false,
     "start_time": "2025-08-13T13:34:16.027165",
     "status": "completed"
    },
    "tags": []
   },
   "outputs": [
    {
     "name": "stdout",
     "output_type": "stream",
     "text": [
      "Trial 30 Complete [00h 00m 15s]\n",
      "val_accuracy: 0.8082731366157532\n",
      "\n",
      "Best val_accuracy So Far: 0.8115561604499817\n",
      "Total elapsed time: 00h 05m 56s\n"
     ]
    }
   ],
   "source": [
    "# %%time\n",
    "tuner.search(\n",
    "    x=X_train,\n",
    "    y=y_train,\n",
    "    validation_data=(X_val, y_val),\n",
    "    epochs=10,\n",
    "    batch_size=32,\n",
    "    callbacks=[early_stop]\n",
    ")\n"
   ]
  },
  {
   "cell_type": "code",
   "execution_count": 25,
   "id": "33288dd7",
   "metadata": {
    "execution": {
     "iopub.execute_input": "2025-08-13T13:40:12.458209Z",
     "iopub.status.busy": "2025-08-13T13:40:12.457588Z",
     "iopub.status.idle": "2025-08-13T13:40:13.205997Z",
     "shell.execute_reply": "2025-08-13T13:40:13.205226Z"
    },
    "papermill": {
     "duration": 0.771249,
     "end_time": "2025-08-13T13:40:13.207102",
     "exception": false,
     "start_time": "2025-08-13T13:40:12.435853",
     "status": "completed"
    },
    "tags": []
   },
   "outputs": [
    {
     "name": "stdout",
     "output_type": "stream",
     "text": [
      "\n",
      "\n",
      "Best Hyperparameters:\n",
      "Embedding Dim: 64\n",
      "GRU Units: 64\n",
      "Dropout: 0.30000000000000004\n",
      "Dense Units: 64\n",
      "Learning Rate: 0.0005\n"
     ]
    },
    {
     "name": "stderr",
     "output_type": "stream",
     "text": [
      "/usr/local/lib/python3.11/dist-packages/keras/src/saving/saving_lib.py:757: UserWarning: Skipping variable loading for optimizer 'adam', because it has 2 variables whereas the saved optimizer has 18 variables. \n",
      "  saveable.load_own_variables(weights_store.get(inner_path))\n"
     ]
    }
   ],
   "source": [
    "# Hyperparameters for best model results based on validation accuracy.\n",
    "best_hp = tuner.get_best_hyperparameters(num_trials=1)[0]\n",
    "print(\"\\n\\nBest Hyperparameters:\")\n",
    "print(f\"Embedding Dim: {best_hp.get('embed_dim')}\")\n",
    "print(f\"GRU Units: {best_hp.get('gru_units')}\")\n",
    "print(f\"Dropout: {best_hp.get('dropout')}\")\n",
    "# print(f\"Recurrent Dropout: {best_hp.get('recurrent_dropout')}\")\n",
    "print(f\"Dense Units: {best_hp.get('post_gru_dense_units')}\")\n",
    "print(f\"Learning Rate: {best_hp.get('learning_rate')}\")\n",
    "\n",
    "best_model = tuner.get_best_models(num_models=1)[0]"
   ]
  },
  {
   "cell_type": "code",
   "execution_count": 26,
   "id": "bbbc1b35",
   "metadata": {
    "execution": {
     "iopub.execute_input": "2025-08-13T13:40:13.251845Z",
     "iopub.status.busy": "2025-08-13T13:40:13.251405Z",
     "iopub.status.idle": "2025-08-13T13:40:13.256087Z",
     "shell.execute_reply": "2025-08-13T13:40:13.255206Z"
    },
    "papermill": {
     "duration": 0.027617,
     "end_time": "2025-08-13T13:40:13.257078",
     "exception": false,
     "start_time": "2025-08-13T13:40:13.229461",
     "status": "completed"
    },
    "tags": []
   },
   "outputs": [
    {
     "name": "stdout",
     "output_type": "stream",
     "text": [
      "Results summary\n",
      "Results in tuner_results/gru_disaster_tweets\n",
      "Showing 10 best trials\n",
      "Objective(name=\"val_accuracy\", direction=\"max\")\n",
      "\n",
      "Trial 17 summary\n",
      "Hyperparameters:\n",
      "embed_dim: 64\n",
      "gru_units: 64\n",
      "dropout: 0.30000000000000004\n",
      "post_gru_dense_units: 64\n",
      "learning_rate: 0.0005\n",
      "Score: 0.8115561604499817\n",
      "\n",
      "Trial 01 summary\n",
      "Hyperparameters:\n",
      "embed_dim: 32\n",
      "gru_units: 64\n",
      "dropout: 0.4\n",
      "post_gru_dense_units: 16\n",
      "learning_rate: 0.001\n",
      "Score: 0.8082731366157532\n",
      "\n",
      "Trial 29 summary\n",
      "Hyperparameters:\n",
      "embed_dim: 32\n",
      "gru_units: 64\n",
      "dropout: 0.2\n",
      "post_gru_dense_units: 32\n",
      "learning_rate: 0.0005\n",
      "Score: 0.8082731366157532\n",
      "\n",
      "Trial 12 summary\n",
      "Hyperparameters:\n",
      "embed_dim: 32\n",
      "gru_units: 128\n",
      "dropout: 0.30000000000000004\n",
      "post_gru_dense_units: 32\n",
      "learning_rate: 0.001\n",
      "Score: 0.8076165318489075\n",
      "\n",
      "Trial 23 summary\n",
      "Hyperparameters:\n",
      "embed_dim: 64\n",
      "gru_units: 128\n",
      "dropout: 0.2\n",
      "post_gru_dense_units: 64\n",
      "learning_rate: 0.0005\n",
      "Score: 0.8056467771530151\n",
      "\n",
      "Trial 08 summary\n",
      "Hyperparameters:\n",
      "embed_dim: 32\n",
      "gru_units: 32\n",
      "dropout: 0.30000000000000004\n",
      "post_gru_dense_units: 16\n",
      "learning_rate: 0.001\n",
      "Score: 0.8030203580856323\n",
      "\n",
      "Trial 26 summary\n",
      "Hyperparameters:\n",
      "embed_dim: 64\n",
      "gru_units: 64\n",
      "dropout: 0.2\n",
      "post_gru_dense_units: 32\n",
      "learning_rate: 0.001\n",
      "Score: 0.8023637533187866\n",
      "\n",
      "Trial 18 summary\n",
      "Hyperparameters:\n",
      "embed_dim: 128\n",
      "gru_units: 32\n",
      "dropout: 0.4\n",
      "post_gru_dense_units: 32\n",
      "learning_rate: 0.005\n",
      "Score: 0.8010505437850952\n",
      "\n",
      "Trial 03 summary\n",
      "Hyperparameters:\n",
      "embed_dim: 128\n",
      "gru_units: 32\n",
      "dropout: 0.30000000000000004\n",
      "post_gru_dense_units: 16\n",
      "learning_rate: 0.001\n",
      "Score: 0.8003939390182495\n",
      "\n",
      "Trial 27 summary\n",
      "Hyperparameters:\n",
      "embed_dim: 64\n",
      "gru_units: 64\n",
      "dropout: 0.30000000000000004\n",
      "post_gru_dense_units: 32\n",
      "learning_rate: 0.001\n",
      "Score: 0.8003939390182495\n"
     ]
    }
   ],
   "source": [
    "tuner.results_summary()"
   ]
  },
  {
   "cell_type": "code",
   "execution_count": 27,
   "id": "d741b2dd",
   "metadata": {
    "execution": {
     "iopub.execute_input": "2025-08-13T13:40:13.303297Z",
     "iopub.status.busy": "2025-08-13T13:40:13.302812Z",
     "iopub.status.idle": "2025-08-13T13:40:13.315473Z",
     "shell.execute_reply": "2025-08-13T13:40:13.314888Z"
    },
    "papermill": {
     "duration": 0.037769,
     "end_time": "2025-08-13T13:40:13.316538",
     "exception": false,
     "start_time": "2025-08-13T13:40:13.278769",
     "status": "completed"
    },
    "tags": []
   },
   "outputs": [
    {
     "data": {
      "text/html": [
       "<pre style=\"white-space:pre;overflow-x:auto;line-height:normal;font-family:Menlo,'DejaVu Sans Mono',consolas,'Courier New',monospace\"><span style=\"font-weight: bold\">Model: \"sequential\"</span>\n",
       "</pre>\n"
      ],
      "text/plain": [
       "\u001b[1mModel: \"sequential\"\u001b[0m\n"
      ]
     },
     "metadata": {},
     "output_type": "display_data"
    },
    {
     "data": {
      "text/html": [
       "<pre style=\"white-space:pre;overflow-x:auto;line-height:normal;font-family:Menlo,'DejaVu Sans Mono',consolas,'Courier New',monospace\">┏━━━━━━━━━━━━━━━━━━━━━━━━━━━━━━━━━┳━━━━━━━━━━━━━━━━━━━━━━━━┳━━━━━━━━━━━━━━━┓\n",
       "┃<span style=\"font-weight: bold\"> Layer (type)                    </span>┃<span style=\"font-weight: bold\"> Output Shape           </span>┃<span style=\"font-weight: bold\">       Param # </span>┃\n",
       "┡━━━━━━━━━━━━━━━━━━━━━━━━━━━━━━━━━╇━━━━━━━━━━━━━━━━━━━━━━━━╇━━━━━━━━━━━━━━━┩\n",
       "│ text_vectorization              │ (<span style=\"color: #00d7ff; text-decoration-color: #00d7ff\">None</span>, <span style=\"color: #00af00; text-decoration-color: #00af00\">35</span>)             │             <span style=\"color: #00af00; text-decoration-color: #00af00\">0</span> │\n",
       "│ (<span style=\"color: #0087ff; text-decoration-color: #0087ff\">TextVectorization</span>)             │                        │               │\n",
       "├─────────────────────────────────┼────────────────────────┼───────────────┤\n",
       "│ embedding (<span style=\"color: #0087ff; text-decoration-color: #0087ff\">Embedding</span>)           │ (<span style=\"color: #00d7ff; text-decoration-color: #00d7ff\">None</span>, <span style=\"color: #00af00; text-decoration-color: #00af00\">35</span>, <span style=\"color: #00af00; text-decoration-color: #00af00\">64</span>)         │       <span style=\"color: #00af00; text-decoration-color: #00af00\">640,000</span> │\n",
       "├─────────────────────────────────┼────────────────────────┼───────────────┤\n",
       "│ gru (<span style=\"color: #0087ff; text-decoration-color: #0087ff\">GRU</span>)                       │ (<span style=\"color: #00d7ff; text-decoration-color: #00d7ff\">None</span>, <span style=\"color: #00af00; text-decoration-color: #00af00\">64</span>)             │        <span style=\"color: #00af00; text-decoration-color: #00af00\">24,960</span> │\n",
       "├─────────────────────────────────┼────────────────────────┼───────────────┤\n",
       "│ dense (<span style=\"color: #0087ff; text-decoration-color: #0087ff\">Dense</span>)                   │ (<span style=\"color: #00d7ff; text-decoration-color: #00d7ff\">None</span>, <span style=\"color: #00af00; text-decoration-color: #00af00\">64</span>)             │         <span style=\"color: #00af00; text-decoration-color: #00af00\">4,160</span> │\n",
       "├─────────────────────────────────┼────────────────────────┼───────────────┤\n",
       "│ dense_1 (<span style=\"color: #0087ff; text-decoration-color: #0087ff\">Dense</span>)                 │ (<span style=\"color: #00d7ff; text-decoration-color: #00d7ff\">None</span>, <span style=\"color: #00af00; text-decoration-color: #00af00\">1</span>)              │            <span style=\"color: #00af00; text-decoration-color: #00af00\">65</span> │\n",
       "└─────────────────────────────────┴────────────────────────┴───────────────┘\n",
       "</pre>\n"
      ],
      "text/plain": [
       "┏━━━━━━━━━━━━━━━━━━━━━━━━━━━━━━━━━┳━━━━━━━━━━━━━━━━━━━━━━━━┳━━━━━━━━━━━━━━━┓\n",
       "┃\u001b[1m \u001b[0m\u001b[1mLayer (type)                   \u001b[0m\u001b[1m \u001b[0m┃\u001b[1m \u001b[0m\u001b[1mOutput Shape          \u001b[0m\u001b[1m \u001b[0m┃\u001b[1m \u001b[0m\u001b[1m      Param #\u001b[0m\u001b[1m \u001b[0m┃\n",
       "┡━━━━━━━━━━━━━━━━━━━━━━━━━━━━━━━━━╇━━━━━━━━━━━━━━━━━━━━━━━━╇━━━━━━━━━━━━━━━┩\n",
       "│ text_vectorization              │ (\u001b[38;5;45mNone\u001b[0m, \u001b[38;5;34m35\u001b[0m)             │             \u001b[38;5;34m0\u001b[0m │\n",
       "│ (\u001b[38;5;33mTextVectorization\u001b[0m)             │                        │               │\n",
       "├─────────────────────────────────┼────────────────────────┼───────────────┤\n",
       "│ embedding (\u001b[38;5;33mEmbedding\u001b[0m)           │ (\u001b[38;5;45mNone\u001b[0m, \u001b[38;5;34m35\u001b[0m, \u001b[38;5;34m64\u001b[0m)         │       \u001b[38;5;34m640,000\u001b[0m │\n",
       "├─────────────────────────────────┼────────────────────────┼───────────────┤\n",
       "│ gru (\u001b[38;5;33mGRU\u001b[0m)                       │ (\u001b[38;5;45mNone\u001b[0m, \u001b[38;5;34m64\u001b[0m)             │        \u001b[38;5;34m24,960\u001b[0m │\n",
       "├─────────────────────────────────┼────────────────────────┼───────────────┤\n",
       "│ dense (\u001b[38;5;33mDense\u001b[0m)                   │ (\u001b[38;5;45mNone\u001b[0m, \u001b[38;5;34m64\u001b[0m)             │         \u001b[38;5;34m4,160\u001b[0m │\n",
       "├─────────────────────────────────┼────────────────────────┼───────────────┤\n",
       "│ dense_1 (\u001b[38;5;33mDense\u001b[0m)                 │ (\u001b[38;5;45mNone\u001b[0m, \u001b[38;5;34m1\u001b[0m)              │            \u001b[38;5;34m65\u001b[0m │\n",
       "└─────────────────────────────────┴────────────────────────┴───────────────┘\n"
      ]
     },
     "metadata": {},
     "output_type": "display_data"
    },
    {
     "data": {
      "text/html": [
       "<pre style=\"white-space:pre;overflow-x:auto;line-height:normal;font-family:Menlo,'DejaVu Sans Mono',consolas,'Courier New',monospace\"><span style=\"font-weight: bold\"> Total params: </span><span style=\"color: #00af00; text-decoration-color: #00af00\">669,185</span> (2.55 MB)\n",
       "</pre>\n"
      ],
      "text/plain": [
       "\u001b[1m Total params: \u001b[0m\u001b[38;5;34m669,185\u001b[0m (2.55 MB)\n"
      ]
     },
     "metadata": {},
     "output_type": "display_data"
    },
    {
     "data": {
      "text/html": [
       "<pre style=\"white-space:pre;overflow-x:auto;line-height:normal;font-family:Menlo,'DejaVu Sans Mono',consolas,'Courier New',monospace\"><span style=\"font-weight: bold\"> Trainable params: </span><span style=\"color: #00af00; text-decoration-color: #00af00\">669,185</span> (2.55 MB)\n",
       "</pre>\n"
      ],
      "text/plain": [
       "\u001b[1m Trainable params: \u001b[0m\u001b[38;5;34m669,185\u001b[0m (2.55 MB)\n"
      ]
     },
     "metadata": {},
     "output_type": "display_data"
    },
    {
     "data": {
      "text/html": [
       "<pre style=\"white-space:pre;overflow-x:auto;line-height:normal;font-family:Menlo,'DejaVu Sans Mono',consolas,'Courier New',monospace\"><span style=\"font-weight: bold\"> Non-trainable params: </span><span style=\"color: #00af00; text-decoration-color: #00af00\">0</span> (0.00 B)\n",
       "</pre>\n"
      ],
      "text/plain": [
       "\u001b[1m Non-trainable params: \u001b[0m\u001b[38;5;34m0\u001b[0m (0.00 B)\n"
      ]
     },
     "metadata": {},
     "output_type": "display_data"
    }
   ],
   "source": [
    "best_model.summary()"
   ]
  },
  {
   "cell_type": "code",
   "execution_count": 28,
   "id": "1679fc21",
   "metadata": {
    "execution": {
     "iopub.execute_input": "2025-08-13T13:40:13.360266Z",
     "iopub.status.busy": "2025-08-13T13:40:13.360078Z",
     "iopub.status.idle": "2025-08-13T13:40:13.450435Z",
     "shell.execute_reply": "2025-08-13T13:40:13.449654Z"
    },
    "papermill": {
     "duration": 0.113657,
     "end_time": "2025-08-13T13:40:13.451710",
     "exception": false,
     "start_time": "2025-08-13T13:40:13.338053",
     "status": "completed"
    },
    "tags": []
   },
   "outputs": [],
   "source": [
    "best_model.save('/kaggle/working/tuner_results/gru_disaster_tweets/best_model.keras')"
   ]
  },
  {
   "cell_type": "code",
   "execution_count": 29,
   "id": "f81ee4c4",
   "metadata": {
    "execution": {
     "iopub.execute_input": "2025-08-13T13:40:13.496943Z",
     "iopub.status.busy": "2025-08-13T13:40:13.496708Z",
     "iopub.status.idle": "2025-08-13T13:40:13.499866Z",
     "shell.execute_reply": "2025-08-13T13:40:13.499349Z"
    },
    "papermill": {
     "duration": 0.026486,
     "end_time": "2025-08-13T13:40:13.500891",
     "exception": false,
     "start_time": "2025-08-13T13:40:13.474405",
     "status": "completed"
    },
    "tags": []
   },
   "outputs": [],
   "source": [
    "# pred_probs = best_model.predict(test_df[\"text\"].values)\n",
    "# pred_labels = (pred_probs > 0.5).astype(int).reshape(-1)\n",
    "\n",
    "# # Prepare submission\n",
    "# submission_df = pd.DataFrame({\n",
    "#     \"id\": test_df[\"id\"],\n",
    "#     \"target\": pred_labels\n",
    "# })\n",
    "\n",
    "# # Write to CSV (uncomment only for \"best\" GRU model eval)\n",
    "# submission_df.to_csv(\"submission.csv\", index=False)"
   ]
  },
  {
   "cell_type": "markdown",
   "id": "480f5128",
   "metadata": {
    "papermill": {
     "duration": 0.021417,
     "end_time": "2025-08-13T13:40:13.544218",
     "exception": false,
     "start_time": "2025-08-13T13:40:13.522801",
     "status": "completed"
    },
    "tags": []
   },
   "source": [
    "## GRU Model #1: Tuned Results\n",
    "\n",
    "The Keras tuner found the following hyperparameters:\n",
    "\n",
    "```\n",
    "embed_dim: 64\n",
    "gru_units: 64\n",
    "dropout: 0.30\n",
    "post_gru_dense_units: 64\n",
    "learning_rate: 0.0005\n",
    "Score: 0.8089297413825989\n",
    "```\n",
    "\n",
    "Upon submission to the Kaggle competition, the **tuned** GRU model scored 0.79007 as the F1 score.\n",
    "\n",
    "As with the original GRU model, we can further look at confusion matrices and F1 scores for the training and validation sets to extract more information about the performance of the model."
   ]
  },
  {
   "cell_type": "code",
   "execution_count": 30,
   "id": "bc0229c2",
   "metadata": {
    "execution": {
     "iopub.execute_input": "2025-08-13T13:40:13.587932Z",
     "iopub.status.busy": "2025-08-13T13:40:13.587697Z",
     "iopub.status.idle": "2025-08-13T13:40:14.999351Z",
     "shell.execute_reply": "2025-08-13T13:40:14.998623Z"
    },
    "papermill": {
     "duration": 1.434931,
     "end_time": "2025-08-13T13:40:15.000530",
     "exception": false,
     "start_time": "2025-08-13T13:40:13.565599",
     "status": "completed"
    },
    "tags": []
   },
   "outputs": [
    {
     "name": "stdout",
     "output_type": "stream",
     "text": [
      "\u001b[1m191/191\u001b[0m \u001b[32m━━━━━━━━━━━━━━━━━━━━\u001b[0m\u001b[37m\u001b[0m \u001b[1m1s\u001b[0m 4ms/step\n",
      "Precision: 0.9432624113475178   Recall: 0.7608695652173914\n"
     ]
    },
    {
     "data": {
      "image/png": "[encoded data removed]",
      "text/plain": [
       "<Figure size 640x480 with 2 Axes>"
      ]
     },
     "metadata": {},
     "output_type": "display_data"
    }
   ],
   "source": [
    "y_pred_train_best = best_model.predict(X_train)\n",
    "displayConfusionMatrix(y_train, y_pred_train_best, \"Training (Tuned GRU)\")"
   ]
  },
  {
   "cell_type": "markdown",
   "id": "423f0b02",
   "metadata": {
    "papermill": {
     "duration": 0.024137,
     "end_time": "2025-08-13T13:40:15.048791",
     "exception": false,
     "start_time": "2025-08-13T13:40:15.024654",
     "status": "completed"
    },
    "tags": []
   },
   "source": [
    "Training results for the tuned GRU model gave us:\n",
    "* Precision: 0.942\n",
    "* Recall: 0.758\n",
    "\n",
    "The slightly lower values here combined with the better F1 score indicate we're on a good track, and the model is likely better performing and more generalized, and has less overfitting."
   ]
  },
  {
   "cell_type": "code",
   "execution_count": 31,
   "id": "bd41e88a",
   "metadata": {
    "execution": {
     "iopub.execute_input": "2025-08-13T13:40:15.098221Z",
     "iopub.status.busy": "2025-08-13T13:40:15.097923Z",
     "iopub.status.idle": "2025-08-13T13:40:15.507588Z",
     "shell.execute_reply": "2025-08-13T13:40:15.506900Z"
    },
    "papermill": {
     "duration": 0.435612,
     "end_time": "2025-08-13T13:40:15.508775",
     "exception": false,
     "start_time": "2025-08-13T13:40:15.073163",
     "status": "completed"
    },
    "tags": []
   },
   "outputs": [
    {
     "name": "stdout",
     "output_type": "stream",
     "text": [
      "\u001b[1m48/48\u001b[0m \u001b[32m━━━━━━━━━━━━━━━━━━━━\u001b[0m\u001b[37m\u001b[0m \u001b[1m0s\u001b[0m 3ms/step\n",
      "Precision: 0.8554455445544554   Recall: 0.6656394453004623\n"
     ]
    },
    {
     "data": {
      "image/png": "[encoded data removed]",
      "text/plain": [
       "<Figure size 640x480 with 2 Axes>"
      ]
     },
     "metadata": {},
     "output_type": "display_data"
    }
   ],
   "source": [
    "y_pred_val_best = best_model.predict(X_val)\n",
    "displayConfusionMatrix(y_val, y_pred_val_best, \"Validation (Tuned GRU)\")"
   ]
  },
  {
   "cell_type": "markdown",
   "id": "50b8a185",
   "metadata": {
    "papermill": {
     "duration": 0.024978,
     "end_time": "2025-08-13T13:40:15.560380",
     "exception": false,
     "start_time": "2025-08-13T13:40:15.535402",
     "status": "completed"
    },
    "tags": []
   },
   "source": [
    "Validation results for the tuned GRU model gave us:\n",
    "* Precision: 0.851\n",
    "* Recall: 0.669\n",
    "\n",
    "The F1 score for the validation set is 0.75. We can see that, overall, the hyperparameter tuning has reduced overfitting and resulted in a better Kaggle submission score."
   ]
  },
  {
   "cell_type": "markdown",
   "id": "a9ea1bce",
   "metadata": {
    "papermill": {
     "duration": 0.024767,
     "end_time": "2025-08-13T13:40:15.610190",
     "exception": false,
     "start_time": "2025-08-13T13:40:15.585423",
     "status": "completed"
    },
    "tags": []
   },
   "source": [
    "## Pre-Trained BERT Model\n",
    "\n",
    "Finally, we'll try a pre-trained [BERT](https://www.kaggle.com/models/keras/bert/keras/bert_small_en_uncased) model for comparison to our previous results.\n",
    "\n",
    "BERT (Bidirectional Encoder Representations from Transformers) is the most complex model architecture we'll explore for this project. It primarily consists of the encoder side of a Transformer, which provides superior context awareness. Importantly, pre-trained BERT models have already been trained on millions of words from multiple sources, so should be able to derive \"meaning\" of short sentences (Tweets) more easily. Additionally, at each timestep, the \"attention\" mechanism enables consideration of the current word combined with all other past/future words in the input.\n",
    "\n",
    "Keras provides both preprocessing and encoder layers in the model, so we're able to basically go straight to training (fine-tuning). We'll uses the smallest (2-layer) model."
   ]
  },
  {
   "cell_type": "code",
   "execution_count": 32,
   "id": "a3c46a29",
   "metadata": {
    "execution": {
     "iopub.execute_input": "2025-08-13T13:40:15.666288Z",
     "iopub.status.busy": "2025-08-13T13:40:15.665595Z",
     "iopub.status.idle": "2025-08-13T13:40:19.719713Z",
     "shell.execute_reply": "2025-08-13T13:40:19.718822Z"
    },
    "papermill": {
     "duration": 4.085975,
     "end_time": "2025-08-13T13:40:19.721214",
     "exception": false,
     "start_time": "2025-08-13T13:40:15.635239",
     "status": "completed"
    },
    "tags": []
   },
   "outputs": [],
   "source": [
    "import keras_hub\n",
    "\n",
    "bert_classifier = keras_hub.models.BertTextClassifier.from_preset('bert_tiny_en_uncased', num_classes=2)"
   ]
  },
  {
   "cell_type": "code",
   "execution_count": 33,
   "id": "9c000fb4",
   "metadata": {
    "execution": {
     "iopub.execute_input": "2025-08-13T13:40:19.775638Z",
     "iopub.status.busy": "2025-08-13T13:40:19.775075Z",
     "iopub.status.idle": "2025-08-13T13:40:19.782519Z",
     "shell.execute_reply": "2025-08-13T13:40:19.782011Z"
    },
    "papermill": {
     "duration": 0.036006,
     "end_time": "2025-08-13T13:40:19.783605",
     "exception": false,
     "start_time": "2025-08-13T13:40:19.747599",
     "status": "completed"
    },
    "tags": []
   },
   "outputs": [],
   "source": [
    "bert_classifier.compile(\n",
    "    loss=tf.keras.losses.SparseCategoricalCrossentropy(from_logits=True),\n",
    "    optimizer=\"adam\",\n",
    "    metrics=[\"accuracy\"])"
   ]
  },
  {
   "cell_type": "code",
   "execution_count": 34,
   "id": "1cf44803",
   "metadata": {
    "execution": {
     "iopub.execute_input": "2025-08-13T13:40:19.836233Z",
     "iopub.status.busy": "2025-08-13T13:40:19.835326Z",
     "iopub.status.idle": "2025-08-13T13:40:19.842687Z",
     "shell.execute_reply": "2025-08-13T13:40:19.842179Z"
    },
    "papermill": {
     "duration": 0.034401,
     "end_time": "2025-08-13T13:40:19.843772",
     "exception": false,
     "start_time": "2025-08-13T13:40:19.809371",
     "status": "completed"
    },
    "tags": []
   },
   "outputs": [],
   "source": [
    "# Need list input formats, so rebuild (X|y)_(train|val)\n",
    "X = train_df['text'].tolist()\n",
    "y = train_df['target'].tolist()\n",
    "X_train, X_val, y_train, y_val = train_test_split(\n",
    "    X, y, test_size=0.2, random_state=42\n",
    ")"
   ]
  },
  {
   "cell_type": "code",
   "execution_count": 35,
   "id": "17644bc7",
   "metadata": {
    "execution": {
     "iopub.execute_input": "2025-08-13T13:40:19.896339Z",
     "iopub.status.busy": "2025-08-13T13:40:19.896108Z",
     "iopub.status.idle": "2025-08-13T13:40:55.444933Z",
     "shell.execute_reply": "2025-08-13T13:40:55.444288Z"
    },
    "papermill": {
     "duration": 35.576239,
     "end_time": "2025-08-13T13:40:55.446356",
     "exception": false,
     "start_time": "2025-08-13T13:40:19.870117",
     "status": "completed"
    },
    "tags": []
   },
   "outputs": [
    {
     "name": "stderr",
     "output_type": "stream",
     "text": [
      "WARNING: All log messages before absl::InitializeLog() is called are written to STDERR\n",
      "I0000 00:00:1755092431.626831      57 service.cc:148] XLA service 0x7a432a4ae070 initialized for platform CUDA (this does not guarantee that XLA will be used). Devices:\n",
      "I0000 00:00:1755092431.627663      57 service.cc:156]   StreamExecutor device (0): Tesla P100-PCIE-16GB, Compute Capability 6.0\n"
     ]
    },
    {
     "name": "stdout",
     "output_type": "stream",
     "text": [
      "\u001b[1m  5/191\u001b[0m \u001b[37m━━━━━━━━━━━━━━━━━━━━\u001b[0m \u001b[1m5s\u001b[0m 28ms/step - accuracy: 0.5364 - loss: 0.6772"
     ]
    },
    {
     "name": "stderr",
     "output_type": "stream",
     "text": [
      "I0000 00:00:1755092439.005466      57 device_compiler.h:188] Compiled cluster using XLA!  This line is logged at most once for the lifetime of the process.\n"
     ]
    },
    {
     "name": "stdout",
     "output_type": "stream",
     "text": [
      "\u001b[1m191/191\u001b[0m \u001b[32m━━━━━━━━━━━━━━━━━━━━\u001b[0m\u001b[37m\u001b[0m \u001b[1m34s\u001b[0m 86ms/step - accuracy: 0.7143 - loss: 0.5591 - val_accuracy: 0.7945 - val_loss: 0.4763\n"
     ]
    }
   ],
   "source": [
    "#%%time\n",
    "\n",
    "history = bert_classifier.fit(\n",
    "    x=X_train,\n",
    "    y=y_train,\n",
    "    validation_data=(X_val, y_val),\n",
    "    epochs=1,\n",
    "    batch_size=32,\n",
    ")"
   ]
  },
  {
   "cell_type": "code",
   "execution_count": 36,
   "id": "8ba72761",
   "metadata": {
    "execution": {
     "iopub.execute_input": "2025-08-13T13:40:55.507450Z",
     "iopub.status.busy": "2025-08-13T13:40:55.507170Z",
     "iopub.status.idle": "2025-08-13T13:40:55.527170Z",
     "shell.execute_reply": "2025-08-13T13:40:55.526698Z"
    },
    "papermill": {
     "duration": 0.051276,
     "end_time": "2025-08-13T13:40:55.528228",
     "exception": false,
     "start_time": "2025-08-13T13:40:55.476952",
     "status": "completed"
    },
    "tags": []
   },
   "outputs": [
    {
     "data": {
      "text/html": [
       "<pre style=\"white-space:pre;overflow-x:auto;line-height:normal;font-family:Menlo,'DejaVu Sans Mono',consolas,'Courier New',monospace\"><span style=\"font-weight: bold\">Preprocessor: \"bert_text_classifier_preprocessor\"</span>\n",
       "</pre>\n"
      ],
      "text/plain": [
       "\u001b[1mPreprocessor: \"bert_text_classifier_preprocessor\"\u001b[0m\n"
      ]
     },
     "metadata": {},
     "output_type": "display_data"
    },
    {
     "data": {
      "text/html": [
       "<pre style=\"white-space:pre;overflow-x:auto;line-height:normal;font-family:Menlo,'DejaVu Sans Mono',consolas,'Courier New',monospace\">┏━━━━━━━━━━━━━━━━━━━━━━━━━━━━━━━━━━━━━━━━━━━━━━━━━━━━━━━━━━━━━━━┳━━━━━━━━━━━━━━━━━━━━━━━━━━━━━━━━━━━━━━━━━━┓\n",
       "┃<span style=\"font-weight: bold\"> Layer (type)                                                  </span>┃<span style=\"font-weight: bold\">                                   Config </span>┃\n",
       "┡━━━━━━━━━━━━━━━━━━━━━━━━━━━━━━━━━━━━━━━━━━━━━━━━━━━━━━━━━━━━━━━╇━━━━━━━━━━━━━━━━━━━━━━━━━━━━━━━━━━━━━━━━━━┩\n",
       "│ bert_tokenizer (<span style=\"color: #0087ff; text-decoration-color: #0087ff\">BertTokenizer</span>)                                │                       Vocab size: <span style=\"color: #00af00; text-decoration-color: #00af00\">30,522</span> │\n",
       "└───────────────────────────────────────────────────────────────┴──────────────────────────────────────────┘\n",
       "</pre>\n"
      ],
      "text/plain": [
       "┏━━━━━━━━━━━━━━━━━━━━━━━━━━━━━━━━━━━━━━━━━━━━━━━━━━━━━━━━━━━━━━━┳━━━━━━━━━━━━━━━━━━━━━━━━━━━━━━━━━━━━━━━━━━┓\n",
       "┃\u001b[1m \u001b[0m\u001b[1mLayer (type)                                                 \u001b[0m\u001b[1m \u001b[0m┃\u001b[1m \u001b[0m\u001b[1m                                  Config\u001b[0m\u001b[1m \u001b[0m┃\n",
       "┡━━━━━━━━━━━━━━━━━━━━━━━━━━━━━━━━━━━━━━━━━━━━━━━━━━━━━━━━━━━━━━━╇━━━━━━━━━━━━━━━━━━━━━━━━━━━━━━━━━━━━━━━━━━┩\n",
       "│ bert_tokenizer (\u001b[38;5;33mBertTokenizer\u001b[0m)                                │                       Vocab size: \u001b[38;5;34m30,522\u001b[0m │\n",
       "└───────────────────────────────────────────────────────────────┴──────────────────────────────────────────┘\n"
      ]
     },
     "metadata": {},
     "output_type": "display_data"
    },
    {
     "data": {
      "text/html": [
       "<pre style=\"white-space:pre;overflow-x:auto;line-height:normal;font-family:Menlo,'DejaVu Sans Mono',consolas,'Courier New',monospace\"><span style=\"font-weight: bold\">Model: \"bert_text_classifier\"</span>\n",
       "</pre>\n"
      ],
      "text/plain": [
       "\u001b[1mModel: \"bert_text_classifier\"\u001b[0m\n"
      ]
     },
     "metadata": {},
     "output_type": "display_data"
    },
    {
     "data": {
      "text/html": [
       "<pre style=\"white-space:pre;overflow-x:auto;line-height:normal;font-family:Menlo,'DejaVu Sans Mono',consolas,'Courier New',monospace\">┏━━━━━━━━━━━━━━━━━━━━━━━━━━━━━━━┳━━━━━━━━━━━━━━━━━━━━━━━━━━━┳━━━━━━━━━━━━━━━━━┳━━━━━━━━━━━━━━━━━━━━━━━━━━━━┓\n",
       "┃<span style=\"font-weight: bold\"> Layer (type)                  </span>┃<span style=\"font-weight: bold\"> Output Shape              </span>┃<span style=\"font-weight: bold\">         Param # </span>┃<span style=\"font-weight: bold\"> Connected to               </span>┃\n",
       "┡━━━━━━━━━━━━━━━━━━━━━━━━━━━━━━━╇━━━━━━━━━━━━━━━━━━━━━━━━━━━╇━━━━━━━━━━━━━━━━━╇━━━━━━━━━━━━━━━━━━━━━━━━━━━━┩\n",
       "│ padding_mask (<span style=\"color: #0087ff; text-decoration-color: #0087ff\">InputLayer</span>)     │ (<span style=\"color: #00d7ff; text-decoration-color: #00d7ff\">None</span>, <span style=\"color: #00d7ff; text-decoration-color: #00d7ff\">None</span>)              │               <span style=\"color: #00af00; text-decoration-color: #00af00\">0</span> │ -                          │\n",
       "├───────────────────────────────┼───────────────────────────┼─────────────────┼────────────────────────────┤\n",
       "│ segment_ids (<span style=\"color: #0087ff; text-decoration-color: #0087ff\">InputLayer</span>)      │ (<span style=\"color: #00d7ff; text-decoration-color: #00d7ff\">None</span>, <span style=\"color: #00d7ff; text-decoration-color: #00d7ff\">None</span>)              │               <span style=\"color: #00af00; text-decoration-color: #00af00\">0</span> │ -                          │\n",
       "├───────────────────────────────┼───────────────────────────┼─────────────────┼────────────────────────────┤\n",
       "│ token_ids (<span style=\"color: #0087ff; text-decoration-color: #0087ff\">InputLayer</span>)        │ (<span style=\"color: #00d7ff; text-decoration-color: #00d7ff\">None</span>, <span style=\"color: #00d7ff; text-decoration-color: #00d7ff\">None</span>)              │               <span style=\"color: #00af00; text-decoration-color: #00af00\">0</span> │ -                          │\n",
       "├───────────────────────────────┼───────────────────────────┼─────────────────┼────────────────────────────┤\n",
       "│ bert_backbone (<span style=\"color: #0087ff; text-decoration-color: #0087ff\">BertBackbone</span>)  │ [(<span style=\"color: #00d7ff; text-decoration-color: #00d7ff\">None</span>, <span style=\"color: #00af00; text-decoration-color: #00af00\">128</span>), (<span style=\"color: #00d7ff; text-decoration-color: #00d7ff\">None</span>,      │       <span style=\"color: #00af00; text-decoration-color: #00af00\">4,385,920</span> │ padding_mask[<span style=\"color: #00af00; text-decoration-color: #00af00\">0</span>][<span style=\"color: #00af00; text-decoration-color: #00af00\">0</span>],        │\n",
       "│                               │ <span style=\"color: #00d7ff; text-decoration-color: #00d7ff\">None</span>, <span style=\"color: #00af00; text-decoration-color: #00af00\">128</span>)]               │                 │ segment_ids[<span style=\"color: #00af00; text-decoration-color: #00af00\">0</span>][<span style=\"color: #00af00; text-decoration-color: #00af00\">0</span>],         │\n",
       "│                               │                           │                 │ token_ids[<span style=\"color: #00af00; text-decoration-color: #00af00\">0</span>][<span style=\"color: #00af00; text-decoration-color: #00af00\">0</span>]            │\n",
       "├───────────────────────────────┼───────────────────────────┼─────────────────┼────────────────────────────┤\n",
       "│ classifier_dropout (<span style=\"color: #0087ff; text-decoration-color: #0087ff\">Dropout</span>)  │ (<span style=\"color: #00d7ff; text-decoration-color: #00d7ff\">None</span>, <span style=\"color: #00af00; text-decoration-color: #00af00\">128</span>)               │               <span style=\"color: #00af00; text-decoration-color: #00af00\">0</span> │ bert_backbone[<span style=\"color: #00af00; text-decoration-color: #00af00\">0</span>][<span style=\"color: #00af00; text-decoration-color: #00af00\">0</span>]        │\n",
       "├───────────────────────────────┼───────────────────────────┼─────────────────┼────────────────────────────┤\n",
       "│ logits (<span style=\"color: #0087ff; text-decoration-color: #0087ff\">Dense</span>)                │ (<span style=\"color: #00d7ff; text-decoration-color: #00d7ff\">None</span>, <span style=\"color: #00af00; text-decoration-color: #00af00\">2</span>)                 │             <span style=\"color: #00af00; text-decoration-color: #00af00\">258</span> │ classifier_dropout[<span style=\"color: #00af00; text-decoration-color: #00af00\">0</span>][<span style=\"color: #00af00; text-decoration-color: #00af00\">0</span>]   │\n",
       "└───────────────────────────────┴───────────────────────────┴─────────────────┴────────────────────────────┘\n",
       "</pre>\n"
      ],
      "text/plain": [
       "┏━━━━━━━━━━━━━━━━━━━━━━━━━━━━━━━┳━━━━━━━━━━━━━━━━━━━━━━━━━━━┳━━━━━━━━━━━━━━━━━┳━━━━━━━━━━━━━━━━━━━━━━━━━━━━┓\n",
       "┃\u001b[1m \u001b[0m\u001b[1mLayer (type)                 \u001b[0m\u001b[1m \u001b[0m┃\u001b[1m \u001b[0m\u001b[1mOutput Shape             \u001b[0m\u001b[1m \u001b[0m┃\u001b[1m \u001b[0m\u001b[1m        Param #\u001b[0m\u001b[1m \u001b[0m┃\u001b[1m \u001b[0m\u001b[1mConnected to              \u001b[0m\u001b[1m \u001b[0m┃\n",
       "┡━━━━━━━━━━━━━━━━━━━━━━━━━━━━━━━╇━━━━━━━━━━━━━━━━━━━━━━━━━━━╇━━━━━━━━━━━━━━━━━╇━━━━━━━━━━━━━━━━━━━━━━━━━━━━┩\n",
       "│ padding_mask (\u001b[38;5;33mInputLayer\u001b[0m)     │ (\u001b[38;5;45mNone\u001b[0m, \u001b[38;5;45mNone\u001b[0m)              │               \u001b[38;5;34m0\u001b[0m │ -                          │\n",
       "├───────────────────────────────┼───────────────────────────┼─────────────────┼────────────────────────────┤\n",
       "│ segment_ids (\u001b[38;5;33mInputLayer\u001b[0m)      │ (\u001b[38;5;45mNone\u001b[0m, \u001b[38;5;45mNone\u001b[0m)              │               \u001b[38;5;34m0\u001b[0m │ -                          │\n",
       "├───────────────────────────────┼───────────────────────────┼─────────────────┼────────────────────────────┤\n",
       "│ token_ids (\u001b[38;5;33mInputLayer\u001b[0m)        │ (\u001b[38;5;45mNone\u001b[0m, \u001b[38;5;45mNone\u001b[0m)              │               \u001b[38;5;34m0\u001b[0m │ -                          │\n",
       "├───────────────────────────────┼───────────────────────────┼─────────────────┼────────────────────────────┤\n",
       "│ bert_backbone (\u001b[38;5;33mBertBackbone\u001b[0m)  │ [(\u001b[38;5;45mNone\u001b[0m, \u001b[38;5;34m128\u001b[0m), (\u001b[38;5;45mNone\u001b[0m,      │       \u001b[38;5;34m4,385,920\u001b[0m │ padding_mask[\u001b[38;5;34m0\u001b[0m][\u001b[38;5;34m0\u001b[0m],        │\n",
       "│                               │ \u001b[38;5;45mNone\u001b[0m, \u001b[38;5;34m128\u001b[0m)]               │                 │ segment_ids[\u001b[38;5;34m0\u001b[0m][\u001b[38;5;34m0\u001b[0m],         │\n",
       "│                               │                           │                 │ token_ids[\u001b[38;5;34m0\u001b[0m][\u001b[38;5;34m0\u001b[0m]            │\n",
       "├───────────────────────────────┼───────────────────────────┼─────────────────┼────────────────────────────┤\n",
       "│ classifier_dropout (\u001b[38;5;33mDropout\u001b[0m)  │ (\u001b[38;5;45mNone\u001b[0m, \u001b[38;5;34m128\u001b[0m)               │               \u001b[38;5;34m0\u001b[0m │ bert_backbone[\u001b[38;5;34m0\u001b[0m][\u001b[38;5;34m0\u001b[0m]        │\n",
       "├───────────────────────────────┼───────────────────────────┼─────────────────┼────────────────────────────┤\n",
       "│ logits (\u001b[38;5;33mDense\u001b[0m)                │ (\u001b[38;5;45mNone\u001b[0m, \u001b[38;5;34m2\u001b[0m)                 │             \u001b[38;5;34m258\u001b[0m │ classifier_dropout[\u001b[38;5;34m0\u001b[0m][\u001b[38;5;34m0\u001b[0m]   │\n",
       "└───────────────────────────────┴───────────────────────────┴─────────────────┴────────────────────────────┘\n"
      ]
     },
     "metadata": {},
     "output_type": "display_data"
    },
    {
     "data": {
      "text/html": [
       "<pre style=\"white-space:pre;overflow-x:auto;line-height:normal;font-family:Menlo,'DejaVu Sans Mono',consolas,'Courier New',monospace\"><span style=\"font-weight: bold\"> Total params: </span><span style=\"color: #00af00; text-decoration-color: #00af00\">13,158,536</span> (50.20 MB)\n",
       "</pre>\n"
      ],
      "text/plain": [
       "\u001b[1m Total params: \u001b[0m\u001b[38;5;34m13,158,536\u001b[0m (50.20 MB)\n"
      ]
     },
     "metadata": {},
     "output_type": "display_data"
    },
    {
     "data": {
      "text/html": [
       "<pre style=\"white-space:pre;overflow-x:auto;line-height:normal;font-family:Menlo,'DejaVu Sans Mono',consolas,'Courier New',monospace\"><span style=\"font-weight: bold\"> Trainable params: </span><span style=\"color: #00af00; text-decoration-color: #00af00\">4,386,178</span> (16.73 MB)\n",
       "</pre>\n"
      ],
      "text/plain": [
       "\u001b[1m Trainable params: \u001b[0m\u001b[38;5;34m4,386,178\u001b[0m (16.73 MB)\n"
      ]
     },
     "metadata": {},
     "output_type": "display_data"
    },
    {
     "data": {
      "text/html": [
       "<pre style=\"white-space:pre;overflow-x:auto;line-height:normal;font-family:Menlo,'DejaVu Sans Mono',consolas,'Courier New',monospace\"><span style=\"font-weight: bold\"> Non-trainable params: </span><span style=\"color: #00af00; text-decoration-color: #00af00\">0</span> (0.00 B)\n",
       "</pre>\n"
      ],
      "text/plain": [
       "\u001b[1m Non-trainable params: \u001b[0m\u001b[38;5;34m0\u001b[0m (0.00 B)\n"
      ]
     },
     "metadata": {},
     "output_type": "display_data"
    },
    {
     "data": {
      "text/html": [
       "<pre style=\"white-space:pre;overflow-x:auto;line-height:normal;font-family:Menlo,'DejaVu Sans Mono',consolas,'Courier New',monospace\"><span style=\"font-weight: bold\"> Optimizer params: </span><span style=\"color: #00af00; text-decoration-color: #00af00\">8,772,358</span> (33.46 MB)\n",
       "</pre>\n"
      ],
      "text/plain": [
       "\u001b[1m Optimizer params: \u001b[0m\u001b[38;5;34m8,772,358\u001b[0m (33.46 MB)\n"
      ]
     },
     "metadata": {},
     "output_type": "display_data"
    }
   ],
   "source": [
    "bert_classifier.summary()"
   ]
  },
  {
   "cell_type": "code",
   "execution_count": 37,
   "id": "752e8660",
   "metadata": {
    "execution": {
     "iopub.execute_input": "2025-08-13T13:40:55.590107Z",
     "iopub.status.busy": "2025-08-13T13:40:55.589628Z",
     "iopub.status.idle": "2025-08-13T13:41:00.900895Z",
     "shell.execute_reply": "2025-08-13T13:41:00.900040Z"
    },
    "papermill": {
     "duration": 5.343216,
     "end_time": "2025-08-13T13:41:00.902365",
     "exception": false,
     "start_time": "2025-08-13T13:40:55.559149",
     "status": "completed"
    },
    "tags": []
   },
   "outputs": [
    {
     "name": "stdout",
     "output_type": "stream",
     "text": [
      "\u001b[1m102/102\u001b[0m \u001b[32m━━━━━━━━━━━━━━━━━━━━\u001b[0m\u001b[37m\u001b[0m \u001b[1m3s\u001b[0m 21ms/step\n"
     ]
    }
   ],
   "source": [
    "pred_probs = bert_classifier.predict(test_df['text'].tolist(), batch_size=32)\n",
    "pred_labels = np.argmax(pred_probs, axis=-1)\n",
    "\n",
    "# Prepare submission\n",
    "submission_df = pd.DataFrame({\n",
    "    \"id\": test_df[\"id\"],\n",
    "    \"target\": pred_labels\n",
    "})\n",
    "\n",
    "# Write to CSV (uncomment only for pre-trained BERT)\n",
    "submission_df.to_csv(\"submission.csv\", index=False)"
   ]
  },
  {
   "cell_type": "markdown",
   "id": "70da62ea",
   "metadata": {
    "papermill": {
     "duration": 0.030003,
     "end_time": "2025-08-13T13:41:00.964377",
     "exception": false,
     "start_time": "2025-08-13T13:41:00.934374",
     "status": "completed"
    },
    "tags": []
   },
   "source": [
    "## Pre-Trained BERT Model: Results\n"
   ]
  },
  {
   "cell_type": "code",
   "execution_count": 38,
   "id": "ec67fba8",
   "metadata": {
    "execution": {
     "iopub.execute_input": "2025-08-13T13:41:01.026658Z",
     "iopub.status.busy": "2025-08-13T13:41:01.025996Z",
     "iopub.status.idle": "2025-08-13T13:41:05.036343Z",
     "shell.execute_reply": "2025-08-13T13:41:05.035620Z"
    },
    "papermill": {
     "duration": 4.042741,
     "end_time": "2025-08-13T13:41:05.037512",
     "exception": false,
     "start_time": "2025-08-13T13:41:00.994771",
     "status": "completed"
    },
    "tags": []
   },
   "outputs": [
    {
     "name": "stdout",
     "output_type": "stream",
     "text": [
      "\u001b[1m191/191\u001b[0m \u001b[32m━━━━━━━━━━━━━━━━━━━━\u001b[0m\u001b[37m\u001b[0m \u001b[1m2s\u001b[0m 11ms/step\n",
      "Precision: 0.8810592459605027   Recall: 0.7486651411136537\n"
     ]
    },
    {
     "data": {
      "image/png": "[encoded data removed]",
      "text/plain": [
       "<Figure size 640x480 with 2 Axes>"
      ]
     },
     "metadata": {},
     "output_type": "display_data"
    }
   ],
   "source": [
    "y_pred_train_bert = bert_classifier.predict(X_train, batch_size=32)\n",
    "y_pred_train_bert_am = np.argmax(y_pred_train_bert, axis=-1)\n",
    "displayConfusionMatrix(y_train, y_pred_train_bert_am, \"Training (BERT)\")"
   ]
  },
  {
   "cell_type": "code",
   "execution_count": 39,
   "id": "125577bc",
   "metadata": {
    "execution": {
     "iopub.execute_input": "2025-08-13T13:41:05.105516Z",
     "iopub.status.busy": "2025-08-13T13:41:05.105011Z",
     "iopub.status.idle": "2025-08-13T13:41:08.061731Z",
     "shell.execute_reply": "2025-08-13T13:41:08.061032Z"
    },
    "papermill": {
     "duration": 2.991222,
     "end_time": "2025-08-13T13:41:08.062884",
     "exception": false,
     "start_time": "2025-08-13T13:41:05.071662",
     "status": "completed"
    },
    "tags": []
   },
   "outputs": [
    {
     "name": "stdout",
     "output_type": "stream",
     "text": [
      "\u001b[1m48/48\u001b[0m \u001b[32m━━━━━━━━━━━━━━━━━━━━\u001b[0m\u001b[37m\u001b[0m \u001b[1m1s\u001b[0m 24ms/step\n",
      "Precision: 0.795774647887324   Recall: 0.6964560862865947\n"
     ]
    },
    {
     "data": {
      "image/png": "[encoded data removed]",
      "text/plain": [
       "<Figure size 640x480 with 2 Axes>"
      ]
     },
     "metadata": {},
     "output_type": "display_data"
    }
   ],
   "source": [
    "y_pred_val_bert = bert_classifier.predict(X_val, batch_size=32)\n",
    "y_pred_val_bert_am = np.argmax(y_pred_val_bert, axis=-1)\n",
    "displayConfusionMatrix(y_val, y_pred_val_bert_am, \"Validation (BERT)\")"
   ]
  },
  {
   "cell_type": "markdown",
   "id": "356a17bb",
   "metadata": {
    "papermill": {
     "duration": 0.033811,
     "end_time": "2025-08-13T13:41:08.132418",
     "exception": false,
     "start_time": "2025-08-13T13:41:08.098607",
     "status": "completed"
    },
    "tags": []
   },
   "source": [
    "Training results for the BERT model gave us:\n",
    "* Precision: 0.956\n",
    "* Recall: 0.831\n",
    "* F1-score: 0.89\n",
    "\n",
    "Validation results for the BERT model gave us:\n",
    "* Precision: 0.772\n",
    "* Recall: 0.601\n",
    "* F1-score: 0.68\n",
    "\n",
    "Kaggle submission score for pre-trained BERT: 0.79160"
   ]
  },
  {
   "cell_type": "markdown",
   "id": "6e962e93",
   "metadata": {
    "papermill": {
     "duration": 0.033222,
     "end_time": "2025-08-13T13:41:08.199775",
     "exception": false,
     "start_time": "2025-08-13T13:41:08.166553",
     "status": "completed"
    },
    "tags": []
   },
   "source": [
    "# Results and Analysis\n",
    "\n",
    "We will now review the results from the various models and hyperparameter tuning trials.\n",
    "\n",
    "## Results Summary\n",
    "\n",
    "| Model                                   | Kaggle Score | Validation Precision | Validation Recall | Validation F1 Score | Parameters (approx.) | Training / Tuning Time |\n",
    "|-----------------------------------------|--------------|----------------------|-------------------|----------|----------------------|------------------------|\n",
    "| GRU with TextVectorization              | 0.76555      | **0.9929** 🥇        | **0.9661** 🥇     | **0.9793** 🥇 | ~2M                | 2 minutes       |\n",
    "| Tuned GRU with TextVectorization        | 0.79007      | 0.8915               | 0.6333            | 0.7413   | ~0.7M                | 30 minutes (includes HP-tuning) |\n",
    "| Pre-Trained BERT                        | **0.79160** 🥇| 0.7723               | 0.6009            | 0.6800   | ~13M                | 30 minutes (1 epoch) |\n",
    "\n",
    "\n",
    "\n",
    "**Baseline GRU**\n",
    "The baseline GRU with TextVectorization proved to be the most efficient and robust model on the validation set. It trained in just five minutes and had a relatively small parameter count (~2 million), making it easy to train and deploy. It achieved the highest validation precision, recall, and F1 score, suggesting it generalized well to the validation data. However, its lower Kaggle score (0.76555) compared to the other models may indicate that it overfit the validation data or performed less effectively on the unseen test data.\n",
    "\n",
    "**Tuned GRU**\n",
    "The tuned GRU showed a significant improvement in performance on the unseen test data, achieving a Kaggle score of 0.79007. This was a notable increase from the baseline model, but it came at the cost of slightly lower validation recall and F1 scores. The hyperparameter tuning process extended the training time to about 30 minutes, but the model remained lightweight and fast to run. This model is ideal for situations where leaderboard ranking is the primary objective. Additionally, after identifying the best hyperparameters, future iterations could focus on further training and fine-tuning based on the \"best\" hyperparameters.\n",
    "\n",
    "**Pre-trained BERT**\n",
    "The pre-trained BERT model delivered the highest overall Kaggle score of 0.79160, leveraging its  pretraining to understand complex language patterns. However, it had lower validation precision, recall, and F1 scores than both GRU models, which could be due to insufficient fine-tuning or a domain mismatch between its pretraining data and the task. Due to time constraints, we tuned the BERT model with only 1-2 epochs. At approximately 13 million parameters and a 30-minute fine-tuning time, it is significantly more resource-intensive, which could pose a challenge for deployment in environments with limited compute resources."
   ]
  },
  {
   "cell_type": "markdown",
   "id": "593698ad",
   "metadata": {
    "papermill": {
     "duration": 0.03305,
     "end_time": "2025-08-13T13:41:08.266142",
     "exception": false,
     "start_time": "2025-08-13T13:41:08.233092",
     "status": "completed"
    },
    "tags": []
   },
   "source": [
    "# Conclusion\n",
    "\n",
    "In summary, the GRU models are highly efficient and competitive, offering a strong balance of performance and resource usage. The pre-trained BERT model, while achieving the best Kaggle score, requires significantly more compute power and shows mixed results on the validation set.\n",
    "\n",
    "Ultimately, the choice between these models depends on priorities: efficiency and generalization (baseline GRU), competition-oriented tuning (tuned GRU), or maximum leaderboard performance with heavier compute demands (BERT).\n",
    "\n",
    "Future work (given more time) could focus on the following:\n",
    "* Additional hyperparameter search combined with additional training on the \"best\" model from the hyperparameter search.\n",
    "* More experimentation with pre-trained text-classification models (longer training, parameter tuning).\n",
    "* Additional feature augmentation (e.g., extract and include hashtag values as separate features)."
   ]
  },
  {
   "cell_type": "markdown",
   "id": "3c189a1f",
   "metadata": {
    "papermill": {
     "duration": 0.033158,
     "end_time": "2025-08-13T13:41:08.332610",
     "exception": false,
     "start_time": "2025-08-13T13:41:08.299452",
     "status": "completed"
    },
    "tags": []
   },
   "source": [
    "# References\n",
    "\n",
    "* https://www.kaggle.com/code/philculliton/nlp-getting-started-tutorial\n",
    "* https://www.kaggle.com/code/gunesevitan/nlp-with-disaster-tweets-eda-cleaning-and-bert\n",
    "* https://keras.io/keras_hub/getting_started/\n",
    "* https://www.kaggle.com/code/alexia/kerasnlp-starter-notebook-disaster-tweets\n",
    "* https://medium.com/@prudhviraju.srivatsavaya/lstm-vs-gru-c1209b8ecb5a\n",
    "* https://keras.io/keras_tuner/\n",
    "* https://keras.io/keras_tuner/getting_started/\n",
    "* https://keras.io/keras_tuner/api/tuners/random/\n",
    "* https://www.kaggle.com/models/keras/distil_bert"
   ]
  }
 ],
 "metadata": {
  "kaggle": {
   "accelerator": "none",
   "dataSources": [
    {
     "databundleVersionId": 869809,
     "sourceId": 17777,
     "sourceType": "competition"
    },
    {
     "modelId": 2819,
     "modelInstanceId": 4675,
     "sourceId": 6054,
     "sourceType": "modelInstanceVersion"
    },
    {
     "modelId": 2819,
     "modelInstanceId": 4676,
     "sourceId": 6055,
     "sourceType": "modelInstanceVersion"
    }
   ],
   "dockerImageVersionId": 31089,
   "isGpuEnabled": false,
   "isInternetEnabled": true,
   "language": "python",
   "sourceType": "notebook"
  },
  "kernelspec": {
   "display_name": "Python 3",
   "language": "python",
   "name": "python3"
  },
  "language_info": {
   "codemirror_mode": {
    "name": "ipython",
    "version": 3
   },
   "file_extension": ".py",
   "mimetype": "text/x-python",
   "name": "python",
   "nbconvert_exporter": "python",
   "pygments_lexer": "ipython3",
   "version": "3.11.13"
  },
  "papermill": {
   "default_parameters": {},
   "duration": 461.423909,
   "end_time": "2025-08-13T13:41:11.156918",
   "environment_variables": {},
   "exception": null,
   "input_path": "__notebook__.ipynb",
   "output_path": "__notebook__.ipynb",
   "parameters": {},
   "start_time": "2025-08-13T13:33:29.733009",
   "version": "2.6.0"
  }
 },
 "nbformat": 4,
 "nbformat_minor": 5
}
